{
  "nbformat": 4,
  "nbformat_minor": 0,
  "metadata": {
    "colab": {
      "name": "Untitled6.ipynb",
      "provenance": [],
      "authorship_tag": "ABX9TyNshzcuDwKnZBglm0p/e/nZ",
      "include_colab_link": true
    },
    "kernelspec": {
      "name": "python3",
      "display_name": "Python 3"
    },
    "language_info": {
      "name": "python"
    }
  },
  "cells": [
    {
      "cell_type": "markdown",
      "metadata": {
        "id": "view-in-github",
        "colab_type": "text"
      },
      "source": [
        "<a href=\"https://colab.research.google.com/github/PJHSE/Learning/blob/main/20220222.ipynb\" target=\"_parent\"><img src=\"https://colab.research.google.com/assets/colab-badge.svg\" alt=\"Open In Colab\"/></a>"
      ]
    },
    {
      "cell_type": "markdown",
      "source": [
        "With Pyhton\n",
        ".. "
      ],
      "metadata": {
        "id": "N_vEHHGuj3RO"
      }
    },
    {
      "cell_type": "code",
      "execution_count": 1,
      "metadata": {
        "colab": {
          "base_uri": "https://localhost:8080/"
        },
        "id": "WPEepAqoj1Pn",
        "outputId": "78844522-22b7-4b55-ded3-8613e0ba7a5b"
      },
      "outputs": [
        {
          "output_type": "execute_result",
          "data": {
            "text/plain": [
              "2"
            ]
          },
          "metadata": {},
          "execution_count": 1
        }
      ],
      "source": [
        "#basic\n",
        "1+1"
      ]
    },
    {
      "cell_type": "code",
      "source": [
        "3/2.4"
      ],
      "metadata": {
        "colab": {
          "base_uri": "https://localhost:8080/"
        },
        "id": "zqeYS8GLkISI",
        "outputId": "69fcb517-f458-4d45-ad8e-f9b156c1df77"
      },
      "execution_count": 2,
      "outputs": [
        {
          "output_type": "execute_result",
          "data": {
            "text/plain": [
              "1.25"
            ]
          },
          "metadata": {},
          "execution_count": 2
        }
      ]
    },
    {
      "cell_type": "markdown",
      "source": [
        "숫자, 문자열, 불(참, 거짓) 이런 자료의 타입이 있고,\n",
        "\n",
        "변수 리스트, 튜플, 딕셔너리, 집합 등 어떤 값을 담는 자료구조가 있다.\n",
        "\n",
        "오른쪽에 있는 값을 왼쪽 상자에 넣는다.\n",
        "\n"
      ],
      "metadata": {
        "id": "9dOQyfz0krqW"
      }
    },
    {
      "cell_type": "code",
      "source": [
        "#자료형, 언어의 핵심\n",
        "#'1' + '1' = 2? '11'? 컴퓨터가 어떻게 구분하느냐!\n"
      ],
      "metadata": {
        "id": "36jwDnUbkJ4L"
      },
      "execution_count": null,
      "outputs": []
    },
    {
      "cell_type": "markdown",
      "source": [
        "숫자형\n",
        "\n",
        "- 정수형(int), 실수형(float), 컴퓨터식 지수(float), 8진수, 16진수\n",
        "\n",
        "- 사칙연산 ( + - * / ) (// 하면 몫이 나옴) ( % 나머지) ( ** 제곱) "
      ],
      "metadata": {
        "id": "eWUaFosrlQLi"
      }
    },
    {
      "cell_type": "code",
      "source": [
        "a = 1 \n"
      ],
      "metadata": {
        "id": "Rkt1MqH5lVxn"
      },
      "execution_count": null,
      "outputs": []
    },
    {
      "cell_type": "markdown",
      "source": [
        "문자열 자료형\n",
        "\n",
        "- \" \" , ' ' , \"\"\" \"\"\" , ''' '''\n",
        "\n",
        "- 다 똑같은데, 문자열 자료형 안에서 따옴표들을 구분하기 위해서.\n",
        "\n",
        "- \\' 이렇게 쓸 수도 있음(백슬래시) \n",
        "\n",
        "- \\n 을 넣으면 줄을 바꿀 수 있음.\n",
        "\n",
        "- \\t 탭 간격을 줄 수 있음.\n",
        "\n",
        "- \\\\ 백슬래시 ㅅ용\n",
        "\n",
        "- ''', \"\"\" 이렇게 쓰면 알아서 줄 나누기 가능"
      ],
      "metadata": {
        "id": "oybJtWJNl-5_"
      }
    },
    {
      "cell_type": "code",
      "source": [
        "print(\"He said, 'the only thing that i could do was..\\' \\n and smiled.\")\n",
        "print('-'*10)\n",
        "print(\"\"\" what\n",
        "did\n",
        "you\n",
        "do\"\"\")"
      ],
      "metadata": {
        "colab": {
          "base_uri": "https://localhost:8080/"
        },
        "id": "pOQv7w9SBmw9",
        "outputId": "535c8b6a-0352-499d-d798-2e36be14170e"
      },
      "execution_count": 5,
      "outputs": [
        {
          "output_type": "stream",
          "name": "stdout",
          "text": [
            "He said, 'the only thing that i could do was..' \n",
            " and smiled.\n",
            "----------\n",
            " what\n",
            "did\n",
            "you\n",
            "do\n"
          ]
        }
      ]
    },
    {
      "cell_type": "markdown",
      "source": [
        "인덱싱(indexing) - 그냥 쉽게 생각해서 뽑아내기 정도\n",
        "\n",
        "근데 파이썬에서는 첫 번째가 0번 째라는 것.\n",
        "\n",
        "-1? 맨 뒤에 것.\n",
        "\n",
        "슬라이싱(slicing) - 인덱싱을 좀 길게..\n",
        "\n",
        "a[이상 : 미만 : 간격]\n",
        "\n"
      ],
      "metadata": {
        "id": "ZLTAOTv6CYpV"
      }
    },
    {
      "cell_type": "code",
      "source": [
        "a = '20220222sunny'\n",
        "\n",
        "print(a[4::4])"
      ],
      "metadata": {
        "colab": {
          "base_uri": "https://localhost:8080/"
        },
        "id": "v9jI_b3OC06i",
        "outputId": "b1febb74-ad7b-4bf3-c0e9-c64fbf8c5f3a"
      },
      "execution_count": 9,
      "outputs": [
        {
          "output_type": "stream",
          "name": "stdout",
          "text": [
            "0sy\n"
          ]
        }
      ]
    },
    {
      "cell_type": "markdown",
      "source": [
        "formatting \n",
        "\n",
        "- %d는 정수, %f는 실수 , %s 는 문자열, %c 는 문자 1개(character) , %%는 %\n",
        "\n"
      ],
      "metadata": {
        "id": "LBOY4llPDHWc"
      }
    },
    {
      "cell_type": "code",
      "source": [
        "a = \"I eat %d apples.\" %3\n",
        "b = \"i eat \" + str(3) +\" apples.\"\n",
        "b\n",
        "\n",
        "c = \"From now i will call you %c\" %'a'\n",
        "c"
      ],
      "metadata": {
        "colab": {
          "base_uri": "https://localhost:8080/",
          "height": 35
        },
        "id": "4ZudigtJDZZL",
        "outputId": "7d430f3c-c2ab-420e-b0e4-28ef4194cb67"
      },
      "execution_count": 31,
      "outputs": [
        {
          "output_type": "execute_result",
          "data": {
            "application/vnd.google.colaboratory.intrinsic+json": {
              "type": "string"
            },
            "text/plain": [
              "'From now i will call you a'"
            ]
          },
          "metadata": {},
          "execution_count": 31
        }
      ]
    },
    {
      "cell_type": "code",
      "source": [
        "number = '10'\n",
        "day = \"three\"\n",
        "# %d는 숫자 받아야 되는데, %s는 자유로운 건가? \n",
        "a = \"i ate %s apples, so i was sick for %s days\" %(number, day)\n",
        "a"
      ],
      "metadata": {
        "colab": {
          "base_uri": "https://localhost:8080/",
          "height": 35
        },
        "id": "9HWiIXTrB3g2",
        "outputId": "b27595ce-f162-49ed-97fd-6941760df79e"
      },
      "execution_count": 28,
      "outputs": [
        {
          "output_type": "execute_result",
          "data": {
            "application/vnd.google.colaboratory.intrinsic+json": {
              "type": "string"
            },
            "text/plain": [
              "'i ate 10 apples, so i was sick for three days'"
            ]
          },
          "metadata": {},
          "execution_count": 28
        }
      ]
    },
    {
      "cell_type": "code",
      "source": [
        "a =\" {age} {name} 고객님, 입장하십시오. \".format(name='박정현', age='24살')\n",
        "a"
      ],
      "metadata": {
        "colab": {
          "base_uri": "https://localhost:8080/",
          "height": 35
        },
        "id": "X5T1hdiqD4sZ",
        "outputId": "44877ac8-60b8-4b50-83a1-4c35fae20d59"
      },
      "execution_count": 35,
      "outputs": [
        {
          "output_type": "execute_result",
          "data": {
            "application/vnd.google.colaboratory.intrinsic+json": {
              "type": "string"
            },
            "text/plain": [
              "' 24살 박정현 고객님, 입장하십시오. '"
            ]
          },
          "metadata": {},
          "execution_count": 35
        }
      ]
    },
    {
      "cell_type": "code",
      "source": [
        "#최신 파이썬 활용에서는\n",
        "name='mike'\n",
        "a = f\"나의 이름은 {name}입니다\"\n",
        "a"
      ],
      "metadata": {
        "colab": {
          "base_uri": "https://localhost:8080/",
          "height": 35
        },
        "id": "NhrovRmiFhoc",
        "outputId": "5b1fe118-8b39-4479-97a9-a5a66737b08d"
      },
      "execution_count": 37,
      "outputs": [
        {
          "output_type": "execute_result",
          "data": {
            "application/vnd.google.colaboratory.intrinsic+json": {
              "type": "string"
            },
            "text/plain": [
              "'나의 이름은 mike입니다'"
            ]
          },
          "metadata": {},
          "execution_count": 37
        }
      ]
    },
    {
      "cell_type": "markdown",
      "source": [
        "정렬과 공백\n",
        "\n",
        "- %10s 이렇게 하면 공백 10칸.\n",
        "\n",
        "- %-10s 이렇게 하면 오른쪽으로 공백 10칸\n",
        "\n",
        "- %0.4f 소수점 4자리까지만 0간격으로 (이건 해보면서 익혀야 할 듯)"
      ],
      "metadata": {
        "id": "Os2H5GYRGFfD"
      }
    },
    {
      "cell_type": "code",
      "source": [
        "a = \"%10s\" %\"hi\"\n",
        "b = \"%-10s\" %'hi'\n",
        "c = \"%5.4f\" %3.215135314  #소수점 앞의 숫자 의미가 뭐지?\n",
        "\n",
        "print (a)\n",
        "print( b)\n",
        "c"
      ],
      "metadata": {
        "colab": {
          "base_uri": "https://localhost:8080/",
          "height": 72
        },
        "id": "GMiGppgvF-Qy",
        "outputId": "b54bcc3a-afa6-4007-e135-720f5182b3ea"
      },
      "execution_count": 44,
      "outputs": [
        {
          "output_type": "stream",
          "name": "stdout",
          "text": [
            "        hi\n",
            "hi        \n"
          ]
        },
        {
          "output_type": "execute_result",
          "data": {
            "application/vnd.google.colaboratory.intrinsic+json": {
              "type": "string"
            },
            "text/plain": [
              "'3.2151'"
            ]
          },
          "metadata": {},
          "execution_count": 44
        }
      ]
    },
    {
      "cell_type": "code",
      "source": [
        "a = 'hobby'\n",
        "print(a.count('b'))\n",
        "print(a.find('b')) #첫번 째 index, 없으면 -1\n",
        "\n",
        "b= '12'.join('abcd')\n",
        "b"
      ],
      "metadata": {
        "colab": {
          "base_uri": "https://localhost:8080/",
          "height": 72
        },
        "id": "vYp4XMM0GvTq",
        "outputId": "4b84addb-57cc-435f-a501-356d227f50ea"
      },
      "execution_count": 50,
      "outputs": [
        {
          "output_type": "stream",
          "name": "stdout",
          "text": [
            "2\n",
            "2\n"
          ]
        },
        {
          "output_type": "execute_result",
          "data": {
            "application/vnd.google.colaboratory.intrinsic+json": {
              "type": "string"
            },
            "text/plain": [
              "'a12b12c12d'"
            ]
          },
          "metadata": {},
          "execution_count": 50
        }
      ]
    },
    {
      "cell_type": "markdown",
      "source": [
        "문자열 바꾸는 replace\n",
        "\n",
        "잘라서 list로 바꾸는 split ('?' 이걸 기준으로, 비우면 띄어쓰기 기준으로)"
      ],
      "metadata": {
        "id": "eAcG0h6bIAYW"
      }
    },
    {
      "cell_type": "code",
      "source": [
        "a = \"life is too short\"\n",
        "print(a.replace(\"life\", \"your Height\"))\n",
        "print(a.split('i'))"
      ],
      "metadata": {
        "colab": {
          "base_uri": "https://localhost:8080/"
        },
        "id": "7Ig0mebRIDK2",
        "outputId": "971a7d8a-8153-4dd8-eebc-3003cab5c991"
      },
      "execution_count": 55,
      "outputs": [
        {
          "output_type": "stream",
          "name": "stdout",
          "text": [
            "your Height is too short\n",
            "['l', 'fe ', 's too short']\n"
          ]
        }
      ]
    },
    {
      "cell_type": "markdown",
      "source": [
        "그럼 list, list는 왜 쓰는거냐? \n",
        "\n",
        "변수가 상자라고 했는데, 이게 여러개로 늘어나면 관리하기 힘듬.\n",
        "\n",
        "이 상자들을 묶어 버리는 것. list - 변수 여러개를 묶는다.\n",
        "\n",
        "list로 빈값, 숫자, 문자, 숫자+문자, 리스트 안의 리스트 도 됨."
      ],
      "metadata": {
        "id": "DVT_K5BTIlfv"
      }
    },
    {
      "cell_type": "code",
      "source": [
        "#예를 들어서\n",
        "a = '1'\n",
        "b = '2'\n",
        "c = '4'\n",
        "d = '6'\n",
        "\n",
        "#이렇게 있는 것을 \n",
        "\n",
        "e = ['1', '2', '4', '6']\n",
        "\n",
        "#묶어서 하나로 관리\n",
        "\n",
        "print (e)\n",
        "\n",
        "f = [ 1, 2, [2, 3]]\n",
        "\n",
        "print(f[2][0])"
      ],
      "metadata": {
        "colab": {
          "base_uri": "https://localhost:8080/"
        },
        "id": "C2OC22sCHYUm",
        "outputId": "bcddf7b1-aa90-4b58-8975-7150ce128a44"
      },
      "execution_count": 72,
      "outputs": [
        {
          "output_type": "stream",
          "name": "stdout",
          "text": [
            "['1', '2', '4', '6']\n",
            "2\n"
          ]
        }
      ]
    },
    {
      "cell_type": "markdown",
      "source": [
        "list 함수 \n",
        "\n",
        "- append\n",
        "\n",
        "- sort\n",
        "\n",
        "- reverse \n",
        "\n",
        "- index\n",
        "\n",
        "- insert(append는 맨 뒤에, 얘는 특정 위치에) \n",
        "\n",
        "- remove(값 지우기)\n",
        "\n",
        "- pop (출력하고 list도 가져오기)\n",
        "\n",
        "- count\n",
        "\n",
        "- extend (뒤에 list 붙이기)"
      ],
      "metadata": {
        "id": "pZ7hy1SfKd5M"
      }
    },
    {
      "cell_type": "markdown",
      "source": [
        "점프투 파이썬 연습문제"
      ],
      "metadata": {
        "id": "a7r_-yyYPfl-"
      }
    },
    {
      "cell_type": "code",
      "source": [
        "print(80/3+75/3+55/3)\n",
        "\n",
        "\n",
        "#자연수 13이 홀수인지 짝수인지 판별할 수 있는 방법에 대해 말해 보자.\n",
        "\n",
        "print(1%2)\n",
        "\n",
        "#홍길동 씨의 주민등록번호는 881120-1068234이다. 홍길동 씨의 주민등록번호를 연월일(YYYYMMDD) 부분과 그 뒤의 숫자 부분으로 나누어 출력해 보자.\n",
        "\n",
        "a = '8811201068234'\n",
        "\n",
        "print(a[0:6])\n",
        "print(a[6:])\n",
        "\n",
        "#주민등록번호 뒷자리의 맨 첫 번째 숫자는 성별을 나타낸다. 주민등록번호에서 성별을 나타내는 숫자를 출력해 보자.\n",
        "\n",
        "b = \"881120-1068234\"\n",
        "\n",
        "print(b[7])\n",
        "\n",
        "#다음과 같은 문자열 a:b:c:d가 있다. 문자열의 replace 함수를 사용하여 a#b#c#d로 바꿔서 출력해 보자.\n",
        "\n",
        "a = \"a:b:c:d\"\n",
        "\n",
        "print(a.replace(\":\",\"#\"))\n",
        "\n",
        "#[1, 3, 5, 4, 2] 리스트를 [5, 4, 3, 2, 1]로 만들어 보자.\n",
        "\n",
        "a = [1,3,5,4,2]\n",
        "\n",
        "print"
      ],
      "metadata": {
        "colab": {
          "base_uri": "https://localhost:8080/"
        },
        "id": "YESAsWR2JI7m",
        "outputId": "b073cab3-c6b8-4ae7-c2ba-ec1eba50224d"
      },
      "execution_count": 87,
      "outputs": [
        {
          "output_type": "stream",
          "name": "stdout",
          "text": [
            "70.0\n",
            "1\n",
            "881120\n",
            "1068234\n",
            "1\n",
            "a#b#c#d\n"
          ]
        },
        {
          "output_type": "execute_result",
          "data": {
            "text/plain": [
              "<function print>"
            ]
          },
          "metadata": {},
          "execution_count": 87
        }
      ]
    },
    {
      "cell_type": "code",
      "source": [
        "#홍길동 씨의 주민등록번호는 881120-1068234이다. 홍길동 씨의 주민등록번호를 연월일(YYYYMMDD) 부분과 그 뒤의 숫자 부분으로 나누어 출력해 보자.\n",
        "\n",
        "a = '8811201068234'\n",
        "\n",
        "print(a[0:6])\n",
        "print(a[6:])\n",
        "\n",
        "pin = \"881120-1068234\"\n",
        "yymmdd = pin[:6]\n",
        "num = pin[7:]\n",
        "print(yymmdd)\n",
        "print(num)"
      ],
      "metadata": {
        "colab": {
          "base_uri": "https://localhost:8080/"
        },
        "id": "0bWVVmEPPpkB",
        "outputId": "0c7939b5-a010-4dd7-ba7d-2532ce764a0c"
      },
      "execution_count": 88,
      "outputs": [
        {
          "output_type": "stream",
          "name": "stdout",
          "text": [
            "881120\n",
            "1068234\n",
            "881120\n",
            "1068234\n"
          ]
        }
      ]
    },
    {
      "cell_type": "code",
      "source": [
        "#자연수 13이 홀수인지 짝수인지 판별할 수 있는 방법에 대해 말해 보자.\n",
        "\n",
        "1%2\n",
        "\n",
        "2%2\n",
        "\n",
        "3%2\n",
        "\n",
        "4%2\n",
        "\n",
        "13%2   #나머지 연산자로 판단"
      ],
      "metadata": {
        "colab": {
          "base_uri": "https://localhost:8080/"
        },
        "id": "0KeJgwmkUH-V",
        "outputId": "f7f9299a-cdd3-45e8-e4da-ba70c046ae37"
      },
      "execution_count": 93,
      "outputs": [
        {
          "output_type": "execute_result",
          "data": {
            "text/plain": [
              "1"
            ]
          },
          "metadata": {},
          "execution_count": 93
        }
      ]
    },
    {
      "cell_type": "code",
      "source": [
        "#다음과 같은 문자열 a:b:c:d가 있다. 문자열의 replace 함수를 사용하여 a#b#c#d로 바꿔서 출력해 보자.\n",
        "\n",
        "a = \"a:b:c:d\"\n",
        "\n",
        "print(a.replace(\":\",\"#\"))\n",
        "\n",
        "b = a.replace(\":\", \"#\")\n",
        "print(b)"
      ],
      "metadata": {
        "colab": {
          "base_uri": "https://localhost:8080/"
        },
        "id": "_Cigi-OSUOCO",
        "outputId": "ea67cbde-c104-4dda-8083-900c28606124"
      },
      "execution_count": 95,
      "outputs": [
        {
          "output_type": "stream",
          "name": "stdout",
          "text": [
            "a#b#c#d\n",
            "a#b#c#d\n"
          ]
        }
      ]
    },
    {
      "cell_type": "code",
      "source": [
        "#[1, 3, 5, 4, 2] 리스트를 [5, 4, 3, 2, 1]로 만들어 보자.\n",
        "\n",
        "a = [1,3,5,4,2]\n",
        "\n",
        "a.sort()\n",
        "a.reverse()\n",
        "print(a)"
      ],
      "metadata": {
        "colab": {
          "base_uri": "https://localhost:8080/"
        },
        "id": "5l71ozd4UjH8",
        "outputId": "c6dcb2b9-1315-4b09-9f81-49d31192c985"
      },
      "execution_count": 99,
      "outputs": [
        {
          "output_type": "stream",
          "name": "stdout",
          "text": [
            "[5, 4, 3, 2, 1]\n"
          ]
        }
      ]
    },
    {
      "cell_type": "code",
      "source": [
        "#['Life', 'is', 'too', 'short'] 라는 리스트를 Life is too short라는 문자열로 만들어 출력해 보자.\n",
        "\n",
        "a = ['Life', 'is', 'too', 'short']\n",
        "\n",
        "b = ' '.join(a)\n",
        "\n",
        "print(b)"
      ],
      "metadata": {
        "colab": {
          "base_uri": "https://localhost:8080/"
        },
        "id": "4I3v0O8SUugL",
        "outputId": "4d7c6983-fefe-43d5-e51e-4d4ec7932e0d"
      },
      "execution_count": 102,
      "outputs": [
        {
          "output_type": "stream",
          "name": "stdout",
          "text": [
            "Life is too short\n"
          ]
        }
      ]
    },
    {
      "cell_type": "markdown",
      "source": [
        "List vs tuple\n",
        "\n",
        "리스트는 변경 가능, 튜플은 변경 불가능 \n",
        "\n",
        "튜플은 길이도, 값도 고정되어 있다.\n",
        "\n",
        "인덱싱, 슬라이싱은 됨."
      ],
      "metadata": {
        "id": "5i6neLNmVM6J"
      }
    },
    {
      "cell_type": "code",
      "source": [
        "t1 = (1, 2, 'a' , 'b')\n",
        "t2 = (1, 2)\n",
        "t1[0:]\n",
        "\n",
        "print(t1[3:4])\n",
        "\n",
        "print(t1 + t2)"
      ],
      "metadata": {
        "colab": {
          "base_uri": "https://localhost:8080/"
        },
        "id": "MpNV1DKHVDfx",
        "outputId": "15458be0-a7f5-42c4-9d45-ab5a88218a4c"
      },
      "execution_count": 111,
      "outputs": [
        {
          "output_type": "stream",
          "name": "stdout",
          "text": [
            "('b',)\n",
            "(1, 2, 'a', 'b', 1, 2)\n"
          ]
        }
      ]
    },
    {
      "cell_type": "markdown",
      "source": [
        "dict(딕셔너리) - 단어를 키로 해서 뜻이 있는 자료구조\n",
        "\n",
        "리스트의 값들에 새로운 의미가 하나씩 더 해진 것으로 볼 수 있나? \n",
        "\n",
        "dic = {'name' : 'pey, 'phone' : '0103423411' , 'birth' : '1118'}"
      ],
      "metadata": {
        "id": "KiydhMCwWFPz"
      }
    },
    {
      "cell_type": "code",
      "source": [
        "dic = {'name' : 'Eric', 'age' : 15}\n",
        "print(dic['name'])"
      ],
      "metadata": {
        "colab": {
          "base_uri": "https://localhost:8080/"
        },
        "id": "lKWg6iUYVlJV",
        "outputId": "bbf9aa86-9a7f-4a1f-9a5e-e54773a15130"
      },
      "execution_count": 114,
      "outputs": [
        {
          "output_type": "stream",
          "name": "stdout",
          "text": [
            "Eric\n"
          ]
        }
      ]
    },
    {
      "cell_type": "code",
      "source": [
        "#딕트에 추가하기\n",
        "a = { 1: 'a'}\n",
        "a['이렇게 추가한다'] = \"알겠냐\"\n",
        "\n",
        "print(a)\n",
        "\n",
        "del a[1]\n",
        "\n",
        "print(a)"
      ],
      "metadata": {
        "colab": {
          "base_uri": "https://localhost:8080/"
        },
        "id": "Rt65AVbKXFVt",
        "outputId": "d955b4e2-78ad-438c-b15c-6f06a02b76bb"
      },
      "execution_count": 120,
      "outputs": [
        {
          "output_type": "stream",
          "name": "stdout",
          "text": [
            "{1: 'a', '이렇게 추가한다': '알겠냐'}\n",
            "{'이렇게 추가한다': '알겠냐'}\n"
          ]
        }
      ]
    },
    {
      "cell_type": "code",
      "source": [
        "#아마 이렇게 이해하는 것이 제일 쉬울득 딕트에서는\n",
        "\n",
        "grade = {'mike' : 10, 'juliana' : 99 , 'Kim' : 85}\n",
        "\n",
        "grade['mike']\n",
        "grade['juliana']\n",
        "\n",
        "print(grade.keys())  #학생들 이름, key들 뽑기\n",
        "print(grade.values()) #학생들 성적, value들 뽑기\n",
        "print(grade.items()) #각각 짝들 뽑기\n",
        "\n",
        "#for f in grade.keys():\n",
        "  #print(f)\n",
        "  #print(f*2)\n",
        "\n",
        "#for f in grade.items():\n",
        "  #print(f)\n",
        "\n",
        "#활용을 해보자\n",
        "print('-'*20)\n",
        "\n",
        "for f, k in grade.items():\n",
        "  print(\"이름: \" + f)\n",
        "  print(\"성적: \" + str(k))      #str(k)의 의미를 정확히 알고 넘어가야 할 듯 \n",
        "\n",
        "#grade.clear()\n",
        "#print(grade)\n",
        "\n",
        "print('99' in grade)"
      ],
      "metadata": {
        "colab": {
          "base_uri": "https://localhost:8080/"
        },
        "id": "qJPYdZjXcwlH",
        "outputId": "13261b9d-8e34-48ef-c8c8-a7b5a4229483"
      },
      "execution_count": 151,
      "outputs": [
        {
          "output_type": "stream",
          "name": "stdout",
          "text": [
            "dict_keys(['mike', 'juliana', 'Kim'])\n",
            "dict_values([10, 99, 85])\n",
            "dict_items([('mike', 10), ('juliana', 99), ('Kim', 85)])\n",
            "--------------------\n",
            "이름: mike\n",
            "성적: 10\n",
            "이름: juliana\n",
            "성적: 99\n",
            "이름: Kim\n",
            "성적: 85\n",
            "False\n"
          ]
        }
      ]
    },
    {
      "cell_type": "markdown",
      "source": [
        "집합 자료형, 중요한 것은 집합이니 중복된 것이 있을 수 없다.\n",
        "\n",
        "가령 [1, 2, 2, 2, 2, 2] 이건 list니깐 가능하지만 집합에서는 불가능.\n",
        "\n",
        "또한 순서가 없음."
      ],
      "metadata": {
        "id": "iKyjU14uYB_W"
      }
    },
    {
      "cell_type": "code",
      "source": [
        "#s1 = set([1,2,3])\n",
        "s1 = {1,2,3}         #정의하는 두 가지 방법\n",
        "type(s1)\n",
        "\n",
        "L = [1, 1, 1, 2, 2, 2, 3, 3, 3, 3, 3, 3,4]\n",
        "type(L)\n",
        "\n",
        "b = newList = list(set(L))\n",
        "\n",
        "print(b)\n",
        "\n",
        "a = 'HellO'\n",
        "\n",
        "c = list(set(a))\n",
        "\n",
        "print(c)\n",
        "\n",
        "c.sort()\n",
        "\n",
        "print(c)"
      ],
      "metadata": {
        "colab": {
          "base_uri": "https://localhost:8080/"
        },
        "id": "GoZ38emaXjFh",
        "outputId": "2e51ab03-c8c9-4059-9ea2-fd05c145f16e"
      },
      "execution_count": 163,
      "outputs": [
        {
          "output_type": "stream",
          "name": "stdout",
          "text": [
            "[1, 2, 3, 4]\n",
            "['l', 'O', 'e', 'H']\n",
            "['H', 'O', 'e', 'l']\n"
          ]
        }
      ]
    },
    {
      "cell_type": "code",
      "source": [
        "s1 = set([1,2,3,4,5,6])\n",
        "s2 = set([3,4,5,6,7])\n",
        "print(s1 & s2)    #교집합 찾기\n",
        "print(s1.intersection(s2))\n",
        "print(s1 | s2)    #합집합\n",
        "print(s1.union(s2))\n",
        "print(s1 - s2)    #차집합\n",
        "print(s2 - s1)\n"
      ],
      "metadata": {
        "colab": {
          "base_uri": "https://localhost:8080/"
        },
        "id": "S2D4a0VzhZb6",
        "outputId": "6a45eb84-711c-4ca3-8a94-1db826c94d13"
      },
      "execution_count": 190,
      "outputs": [
        {
          "output_type": "stream",
          "name": "stdout",
          "text": [
            "{3, 4, 5, 6}\n",
            "{3, 4, 5, 6}\n",
            "{1, 2, 3, 4, 5, 6, 7}\n",
            "{1, 2, 3, 4, 5, 6, 7}\n",
            "{1, 2}\n",
            "{7}\n"
          ]
        }
      ]
    },
    {
      "cell_type": "code",
      "source": [
        "print(s1)\n",
        "s1.add(8)\n",
        "s1.update([9,0,2])\n",
        "print(s1)\n",
        "s1.remove(1)  \n",
        "s1"
      ],
      "metadata": {
        "colab": {
          "base_uri": "https://localhost:8080/"
        },
        "id": "yIZdhs-bitHh",
        "outputId": "570cfa3f-d795-4954-90d7-9d73d2a6aa6d"
      },
      "execution_count": 191,
      "outputs": [
        {
          "output_type": "stream",
          "name": "stdout",
          "text": [
            "{1, 2, 3, 4, 5, 6}\n",
            "{0, 1, 2, 3, 4, 5, 6, 8, 9}\n"
          ]
        },
        {
          "output_type": "execute_result",
          "data": {
            "text/plain": [
              "{0, 2, 3, 4, 5, 6, 8, 9}"
            ]
          },
          "metadata": {},
          "execution_count": 191
        }
      ]
    },
    {
      "cell_type": "markdown",
      "source": [
        "불 자료형(boolean)\n",
        "\n",
        "참 거짓.\n",
        "\n",
        "근데 파이썬에서는 \"ㅁㅇㅁㄴㅇ\" 이거 참, \" \" 거짓으로 봄. [1, 2, 3] 이거 참, [ ] 거짓. () 거짓, {} 거짓, 1 참, 0 거짓, none 거짓.\n",
        "\n"
      ],
      "metadata": {
        "id": "K_PxUMNalRTz"
      }
    },
    {
      "cell_type": "code",
      "source": [
        "a = True\n",
        "type(a)"
      ],
      "metadata": {
        "colab": {
          "base_uri": "https://localhost:8080/"
        },
        "id": "wWgNQybGjjAY",
        "outputId": "7d6c4864-4e91-4d21-ed83-c70277db65c8"
      },
      "execution_count": 195,
      "outputs": [
        {
          "output_type": "execute_result",
          "data": {
            "text/plain": [
              "bool"
            ]
          },
          "metadata": {},
          "execution_count": 195
        }
      ]
    },
    {
      "cell_type": "code",
      "source": [
        "a = \"예시는 이걸로 해보자\"\n",
        "if a:\n",
        "  print(a)         #True로 본 거다..\n",
        "\n",
        "\n",
        "b = [1, 2, 3, 4]\n",
        "\n",
        "while b:\n",
        "  b.pop()\n",
        "  print(b)"
      ],
      "metadata": {
        "colab": {
          "base_uri": "https://localhost:8080/"
        },
        "id": "yhW8P4bFlogj",
        "outputId": "69a29401-ec9d-4800-f85c-78ab1c768bc8"
      },
      "execution_count": 201,
      "outputs": [
        {
          "output_type": "stream",
          "name": "stdout",
          "text": [
            "예시는 이걸로 해보자\n",
            "[1, 2, 3]\n",
            "[1, 2]\n",
            "[1]\n",
            "[]\n"
          ]
        }
      ]
    },
    {
      "cell_type": "code",
      "source": [
        "a = [1, 2, 3]\n",
        "b = a[:]\n",
        "a[1] = 4\n",
        "print(a)\n",
        "print(b)\n",
        "print(id(a))\n",
        "print(id(b))               #요기 의미를 이해할 수 있어야 함. "
      ],
      "metadata": {
        "colab": {
          "base_uri": "https://localhost:8080/"
        },
        "id": "RZ9xJaosmXoY",
        "outputId": "65d83b38-9f7b-450f-bc61-e27e9dcc53b0"
      },
      "execution_count": 204,
      "outputs": [
        {
          "output_type": "stream",
          "name": "stdout",
          "text": [
            "[1, 4, 3]\n",
            "[1, 2, 3]\n",
            "139894719966336\n",
            "139894719964656\n"
          ]
        }
      ]
    },
    {
      "cell_type": "code",
      "source": [
        "from copy import copy\n",
        "a = [1,2,3]\n",
        "b = copy(a)"
      ],
      "metadata": {
        "id": "eh8HGd1ZofNp"
      },
      "execution_count": 206,
      "outputs": []
    },
    {
      "cell_type": "code",
      "source": [
        "print(id(a))\n",
        "print(id(b))"
      ],
      "metadata": {
        "colab": {
          "base_uri": "https://localhost:8080/"
        },
        "id": "bt5aUDSho263",
        "outputId": "9f080b94-010c-423e-8231-1415126bb318"
      },
      "execution_count": 207,
      "outputs": [
        {
          "output_type": "stream",
          "name": "stdout",
          "text": [
            "139894719526704\n",
            "139894720670688\n"
          ]
        }
      ]
    },
    {
      "cell_type": "code",
      "source": [
        "a = 3\n",
        "b = 5\n",
        "tmp = b\n",
        "b = a\n",
        "a = tmp \n",
        "print(a)\n",
        "print(b)              #이게 일반적으로 다른 언어에서 바꾸는 방법"
      ],
      "metadata": {
        "colab": {
          "base_uri": "https://localhost:8080/"
        },
        "id": "sVaGcOUppyhM",
        "outputId": "0aa77684-aaed-4853-b722-92d763f01da5"
      },
      "execution_count": 208,
      "outputs": [
        {
          "output_type": "stream",
          "name": "stdout",
          "text": [
            "5\n",
            "3\n"
          ]
        }
      ]
    },
    {
      "cell_type": "code",
      "source": [
        "a = 3\n",
        "b = 5\n",
        "a , b = b , a\n",
        "print(a)\n",
        "print(b)"
      ],
      "metadata": {
        "colab": {
          "base_uri": "https://localhost:8080/"
        },
        "id": "0zgu-xwMpAGz",
        "outputId": "b86ea1d0-3aed-4d90-fcf7-03ea513a4501"
      },
      "execution_count": 210,
      "outputs": [
        {
          "output_type": "stream",
          "name": "stdout",
          "text": [
            "5\n",
            "3\n"
          ]
        }
      ]
    },
    {
      "cell_type": "code",
      "source": [
        "#[1, 3, 5, 4, 2] 리스트를 [5, 4, 3, 2, 1]로 만들어 보자\n",
        "\n",
        "a = [1, 3, 5, 4, 2]\n",
        "\n",
        "a.sort()\n",
        "a.reverse()\n",
        "print(a)"
      ],
      "metadata": {
        "colab": {
          "base_uri": "https://localhost:8080/"
        },
        "id": "T93_MTnQqB0O",
        "outputId": "3d109c4b-3876-4778-e941-2e42ac66fc86"
      },
      "execution_count": 212,
      "outputs": [
        {
          "output_type": "stream",
          "name": "stdout",
          "text": [
            "[5, 4, 3, 2, 1]\n"
          ]
        }
      ]
    },
    {
      "cell_type": "code",
      "source": [
        "#(1,2,3) 튜플에 값 4를 추가하여 (1,2,3,4)를 만들어 출력해 보자.\n",
        "\n",
        "a = (1, 2, 3)\n",
        "type(a)\n",
        "b = (4,)\n",
        "type(b)\n",
        "\n",
        "a + b"
      ],
      "metadata": {
        "colab": {
          "base_uri": "https://localhost:8080/"
        },
        "id": "QMomU_RXq6-K",
        "outputId": "b8cc9e94-9cd1-49d6-e87e-78924d61c851"
      },
      "execution_count": 237,
      "outputs": [
        {
          "output_type": "execute_result",
          "data": {
            "text/plain": [
              "(1, 2, 3, 4)"
            ]
          },
          "metadata": {},
          "execution_count": 237
        }
      ]
    },
    {
      "cell_type": "code",
      "source": [
        "#다음과 같은 딕셔너리 a가 있다.\n",
        "#>>> a = dict()\n",
        "#>>> a\n",
        "#{}\n",
        "#다음 중 오류가 발생하는 경우를 고르고, 그 이유를 설명해 보자.\n",
        "\n",
        "#a['name'] = 'python'  문자열인 key\n",
        "#a[('a',)] = 'python'  튜플인 key\n",
        "#a[[1]] = 'python'      list인 key x\n",
        "#a[250] = 'python'      숫자인 key\n",
        "\n",
        "\n"
      ],
      "metadata": {
        "id": "Zx3mqr-8rENU"
      },
      "execution_count": 219,
      "outputs": []
    },
    {
      "cell_type": "code",
      "source": [
        "#딕셔너리 a에서 'B'에 해당되는 값을 추출해 보자.\n",
        "\n",
        "a = {'A':90, 'B':80, 'C':70}\n",
        "\n",
        "print(a.pop('B'))\n",
        "\n",
        "print(a)"
      ],
      "metadata": {
        "colab": {
          "base_uri": "https://localhost:8080/"
        },
        "id": "7egdsJnGrms6",
        "outputId": "243e9a05-ca3a-4221-f49b-ada9d9c8ea87"
      },
      "execution_count": 240,
      "outputs": [
        {
          "output_type": "stream",
          "name": "stdout",
          "text": [
            "80\n",
            "{'A': 90, 'C': 70}\n"
          ]
        }
      ]
    },
    {
      "cell_type": "code",
      "source": [
        "#a 리스트에서 중복 숫자를 제거해 보자.\n",
        "a = [1, 1, 1, 2, 2, 3, 3, 3, 4, 4, 5]\n",
        "\n",
        "s1=set(a)\n",
        "b= list(s1)   #이 과정을 거쳐야 집합에서 다시 리스트로 바뀜.\n",
        "b"
      ],
      "metadata": {
        "colab": {
          "base_uri": "https://localhost:8080/"
        },
        "id": "TNkYjA0lrtRw",
        "outputId": "de214ceb-78dd-4e20-b280-e371cc2816ad"
      },
      "execution_count": 242,
      "outputs": [
        {
          "output_type": "execute_result",
          "data": {
            "text/plain": [
              "[1, 2, 3, 4, 5]"
            ]
          },
          "metadata": {},
          "execution_count": 242
        }
      ]
    },
    {
      "cell_type": "code",
      "source": [
        ""
      ],
      "metadata": {
        "id": "B1Eob14AsbZe"
      },
      "execution_count": null,
      "outputs": []
    }
  ]
}