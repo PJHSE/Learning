{
  "nbformat": 4,
  "nbformat_minor": 0,
  "metadata": {
    "colab": {
      "name": "Untitled9.ipynb",
      "provenance": [],
      "authorship_tag": "ABX9TyOkCTHRvGUDmfSxbEmKwDwJ",
      "include_colab_link": true
    },
    "kernelspec": {
      "name": "python3",
      "display_name": "Python 3"
    },
    "language_info": {
      "name": "python"
    }
  },
  "cells": [
    {
      "cell_type": "markdown",
      "metadata": {
        "id": "view-in-github",
        "colab_type": "text"
      },
      "source": [
        "<a href=\"https://colab.research.google.com/github/PJHSE/Learning/blob/main/20220225.ipynb\" target=\"_parent\"><img src=\"https://colab.research.google.com/assets/colab-badge.svg\" alt=\"Open In Colab\"/></a>"
      ]
    },
    {
      "cell_type": "markdown",
      "source": [
        "immutable vs Mutable\n",
        "\n",
        "Immutable(변하지 않는 것), [정수, 실수, 문자열, 튜플]\n",
        "\n",
        "a=1\n",
        "def vartest(a):\n",
        "  a = a + 1\n",
        "\n",
        "vartest(a)\n",
        "print(a)  , a값은 변하지 않음\n",
        "\n",
        "Mutable (변할 수 있는 것), [리스트, 딕셔너리, 집합]\n",
        "\n",
        "b = [1,2,3]\n",
        "def vartest2(b):\n",
        "  b = b.append(4)\n",
        "\n",
        "vartest(b)\n",
        "print(b)  "
      ],
      "metadata": {
        "id": "vnOt0Il1RGyy"
      }
    },
    {
      "cell_type": "markdown",
      "source": [
        "클래스\n",
        "\n",
        "함수를 여러번 쓰는 수고를 덜기 위한, 반복되는 변수와 메서드를 줄여서 쓰는."
      ],
      "metadata": {
        "id": "GSu5tdBAfekY"
      }
    },
    {
      "cell_type": "code",
      "source": [
        "class Calculator:\n",
        "  def _init_(self):\n",
        "    self.result=0\n",
        "\n",
        "  def add(self,num):\n",
        "      self.result =+ num\n",
        "      return self.result\n",
        "\n",
        "cal1 = Calculator()\n",
        "cal2 = Calculator()\n",
        "\n",
        "print(cal1.add(3))"
      ],
      "metadata": {
        "colab": {
          "base_uri": "https://localhost:8080/"
        },
        "id": "9mNUvxL2fRsc",
        "outputId": "1b35c832-8892-4ec5-e273-0ed42a3b2722"
      },
      "execution_count": 47,
      "outputs": [
        {
          "output_type": "stream",
          "name": "stdout",
          "text": [
            "3\n"
          ]
        }
      ]
    },
    {
      "cell_type": "code",
      "source": [
        "class Fourcal:\n",
        "  def setdata(self, first, second):\n",
        "    self.first = second\n",
        "    self.second = first\n",
        "\n",
        "a = Fourcal()\n",
        "print(a.setdata(1,2))\n",
        "print(a.first)"
      ],
      "metadata": {
        "colab": {
          "base_uri": "https://localhost:8080/"
        },
        "id": "tIEratyQhkVK",
        "outputId": "8d415f27-0e7a-4701-b3df-2af98d402e29"
      },
      "execution_count": 52,
      "outputs": [
        {
          "output_type": "stream",
          "name": "stdout",
          "text": [
            "None\n",
            "2\n"
          ]
        }
      ]
    },
    {
      "cell_type": "code",
      "source": [
        "class FourCal:\n",
        "  def setdata(self, first, second):\n",
        "    self.first = first\n",
        "    self.second = second\n",
        "  def add(self):\n",
        "    result = self.first + self.second\n",
        "    return result\n",
        "\n",
        "a = FourCal()\n",
        "a.setdata(4,2)\n",
        "print(a.add())"
      ],
      "metadata": {
        "colab": {
          "base_uri": "https://localhost:8080/"
        },
        "id": "oj2pbW8FjV_2",
        "outputId": "b84af7ba-525f-4975-a59e-3fc169bbf548"
      },
      "execution_count": 59,
      "outputs": [
        {
          "output_type": "stream",
          "name": "stdout",
          "text": [
            "6\n"
          ]
        }
      ]
    },
    {
      "cell_type": "code",
      "source": [
        "class FourCal:\n",
        "...     def __init__(self, first, second):\n",
        "...         self.first = first\n",
        "...         self.second = second\n",
        "...     def setdata(self, first, second):\n",
        "...         self.first = first\n",
        "...         self.second = second\n",
        "...     def add(self):\n",
        "...         result = self.first + self.second\n",
        "...         return result\n",
        "...     def mul(self):\n",
        "...         result = self.first * self.second\n",
        "...         return result\n",
        "...     def sub(self):\n",
        "...         result = self.first - self.second\n",
        "...         return result\n",
        "...     def div(self):\n",
        "...         result = self.first / self.second\n",
        "...         return result\n",
        "\n",
        "\n",
        "class MoreFourCal(FourCal):\n",
        "...     def pow(self):\n",
        "...         result = self.first ** self.second\n",
        "...         return result\n",
        "\n",
        "a=MoreFourCal(4,2)\n",
        "a.add()\n",
        "\n",
        "class SafeFourCal(FourCal):\n",
        "...     def div(self):\n",
        "...         if self.second == 0:  # 나누는 값이 0인 경우 0을 리턴하도록 수정\n",
        "...             return 0\n",
        "...         else:\n",
        "...             return self.first / self.second\n",
        "\n",
        "a=SafeFourCal(4,0)\n",
        "a.div()"
      ],
      "metadata": {
        "colab": {
          "base_uri": "https://localhost:8080/"
        },
        "id": "yl-DB02wlRBC",
        "outputId": "103412ad-c777-4ad4-c2bf-3832c364e4b5"
      },
      "execution_count": 71,
      "outputs": [
        {
          "output_type": "execute_result",
          "data": {
            "text/plain": [
              "0"
            ]
          },
          "metadata": {},
          "execution_count": 71
        }
      ]
    },
    {
      "cell_type": "code",
      "execution_count": 2,
      "metadata": {
        "colab": {
          "base_uri": "https://localhost:8080/"
        },
        "id": "gbMqYo45RFzm",
        "outputId": "ef5e519d-67fc-43fd-b505-86bd3af8edd5"
      },
      "outputs": [
        {
          "output_type": "stream",
          "name": "stdout",
          "text": [
            "[1, 2, 3, 4]\n"
          ]
        }
      ],
      "source": [
        "b = [1,2,3]\n",
        "def vartest2(b):\n",
        "  b = b.append(4)\n",
        "\n",
        "vartest2(b)\n",
        "print(b) \n",
        "\n",
        "#지역변수와 전역변수 개념을 기억하자."
      ]
    },
    {
      "cell_type": "code",
      "source": [
        "#점프투파이썬 연습문제 3장\n",
        "\n",
        "#1.다음 코드의 결괏값은 무엇일까? , shirt? ,\n",
        "a = \"Life is too short, you need python\"\n",
        "\n",
        "if \"wife\" in a: print(\"wife\")\n",
        "elif \"python\" in a and \"you\" not in a: print(\"python\")\n",
        "elif \"shirt\" not in a: print(\"shirt\")\n",
        "elif \"need\" in a: print(\"need\")\n",
        "else: print(\"none\")"
      ],
      "metadata": {
        "colab": {
          "base_uri": "https://localhost:8080/"
        },
        "id": "23DUEL2iSDbH",
        "outputId": "25e199cb-013a-43a5-e13f-a62986dd37d0"
      },
      "execution_count": 3,
      "outputs": [
        {
          "output_type": "stream",
          "name": "stdout",
          "text": [
            "shirt\n"
          ]
        }
      ]
    },
    {
      "cell_type": "code",
      "source": [
        "#2.while문을 사용해 1부터 1000까지의 자연수 중 3의 배수의 합을 구해 보자.\n",
        "\n",
        "a = 0\n",
        "i = 1\n",
        "while i <= 1000:\n",
        "  if i%3==0:\n",
        "    a = a + i   #a += i\n",
        "  i = i + 1     #i += 1\n",
        "print(a)"
      ],
      "metadata": {
        "colab": {
          "base_uri": "https://localhost:8080/"
        },
        "id": "cmEAayYOShHP",
        "outputId": "3b98e75c-41bc-4445-d190-da43b8c55a5a"
      },
      "execution_count": 20,
      "outputs": [
        {
          "output_type": "stream",
          "name": "stdout",
          "text": [
            "166833\n"
          ]
        }
      ]
    },
    {
      "cell_type": "code",
      "source": [
        "#3.while문을 사용하여 다음과 같이 별(*)을 표시하는 프로그램을 작성해 보자.\n",
        "#*\n",
        "#**\n",
        "#***\n",
        "#****\n",
        "#*****\n",
        "\n",
        "a = '*'\n",
        "i = 1\n",
        "while i <=5:\n",
        "  print(a * i)\n",
        "  i = i + 1\n",
        "\n",
        "\n",
        "#풀이는 이렇게\n",
        "p = 0\n",
        "while True:\n",
        "  p += 1\n",
        "  if p > 5: break\n",
        "  print('*' * p)"
      ],
      "metadata": {
        "colab": {
          "base_uri": "https://localhost:8080/"
        },
        "id": "MwTXAGJaSzDX",
        "outputId": "0598e502-a217-44e9-912b-d5548806544b"
      },
      "execution_count": 29,
      "outputs": [
        {
          "output_type": "stream",
          "name": "stdout",
          "text": [
            "*\n",
            "**\n",
            "***\n",
            "****\n",
            "*****\n",
            "*\n",
            "**\n",
            "***\n",
            "****\n",
            "*****\n"
          ]
        }
      ]
    },
    {
      "cell_type": "code",
      "source": [
        "#4.for문을 사용해 1부터 100까지의 숫자를 출력해 보자.\n",
        "\n",
        "for i in range (1,101):\n",
        "  print (i, end = \" \")"
      ],
      "metadata": {
        "colab": {
          "base_uri": "https://localhost:8080/"
        },
        "id": "B58NTSS7T4cU",
        "outputId": "e226aaf9-eeb3-453b-93f9-7c29f4a67690"
      },
      "execution_count": 33,
      "outputs": [
        {
          "output_type": "stream",
          "name": "stdout",
          "text": [
            "1 2 3 4 5 6 7 8 9 10 11 12 13 14 15 16 17 18 19 20 21 22 23 24 25 26 27 28 29 30 31 32 33 34 35 36 37 38 39 40 41 42 43 44 45 46 47 48 49 50 51 52 53 54 55 56 57 58 59 60 61 62 63 64 65 66 67 68 69 70 71 72 73 74 75 76 77 78 79 80 81 82 83 84 85 86 87 88 89 90 91 92 93 94 95 96 97 98 99 100 "
          ]
        }
      ]
    },
    {
      "cell_type": "code",
      "source": [
        "#5.A 학급에 총 10명의 학생이 있다. 이 학생들의 중간고사 점수는 다음과 같다.\n",
        "#[70, 60, 55, 75, 95, 90, 80, 80, 85, 100]\n",
        "#for문을 사용하여 A 학급의 평균 점수를 구해 보자.\n",
        "\n",
        "mark = [70, 60, 55, 75, 95, 90, 80, 80, 85, 100]\n",
        "total=0\n",
        "for i in mark:\n",
        "  total= total + i\n",
        "print(total/10)  # 풀이에서는\n",
        "average = total / len(mark)\n",
        "print(average)"
      ],
      "metadata": {
        "colab": {
          "base_uri": "https://localhost:8080/"
        },
        "id": "ANVdfuwdUFWS",
        "outputId": "136ca3ed-27d7-433e-f198-4509b8ff183e"
      },
      "execution_count": 36,
      "outputs": [
        {
          "output_type": "stream",
          "name": "stdout",
          "text": [
            "79.0\n",
            "79.0\n"
          ]
        }
      ]
    },
    {
      "cell_type": "code",
      "source": [
        "numbers = [1, 2, 3, 4, 5]\n",
        "\n",
        "result = []\n",
        "for n in numbers:\n",
        "    if n % 2 == 1:\n",
        "        result.append(n*2)\n",
        "result"
      ],
      "metadata": {
        "colab": {
          "base_uri": "https://localhost:8080/"
        },
        "id": "C7m_Jk9zUdIf",
        "outputId": "974850a7-1a77-43fc-a6cb-cceb145874c2"
      },
      "execution_count": 38,
      "outputs": [
        {
          "output_type": "execute_result",
          "data": {
            "text/plain": [
              "[2, 6, 10]"
            ]
          },
          "metadata": {},
          "execution_count": 38
        }
      ]
    },
    {
      "cell_type": "code",
      "source": [
        "numbers = [1,2,3,4,5]\n",
        "result = [n*2 for n in numbers if n%2==1]"
      ],
      "metadata": {
        "id": "U5X8zwtZe4Xf"
      },
      "execution_count": 40,
      "outputs": []
    },
    {
      "cell_type": "code",
      "source": [
        ""
      ],
      "metadata": {
        "id": "lb0w0IOYfHgm"
      },
      "execution_count": null,
      "outputs": []
    }
  ]
}