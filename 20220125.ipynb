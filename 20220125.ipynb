{
  "nbformat": 4,
  "nbformat_minor": 0,
  "metadata": {
    "colab": {
      "name": "Untitled4.ipynb",
      "provenance": [],
      "authorship_tag": "ABX9TyPrwzo7jGP2z8meSrZKXdXb",
      "include_colab_link": true
    },
    "kernelspec": {
      "name": "python3",
      "display_name": "Python 3"
    },
    "language_info": {
      "name": "python"
    }
  },
  "cells": [
    {
      "cell_type": "markdown",
      "metadata": {
        "id": "view-in-github",
        "colab_type": "text"
      },
      "source": [
        "<a href=\"https://colab.research.google.com/github/PJHSE/Learning/blob/main/20220125.ipynb\" target=\"_parent\"><img src=\"https://colab.research.google.com/assets/colab-badge.svg\" alt=\"Open In Colab\"/></a>"
      ]
    },
    {
      "cell_type": "markdown",
      "source": [
        "#### 이것은 제가 처음으로 혼자 해보는 코딩입니다. 이 코드들은 점프 투 파이썬이라는 책의 과정을 따라서 만들어졌습니다.\n",
        "\n",
        " Codes in this page are the codes that I do for the first time without anyone's help or advice. And these codes are made following the course of the book 'Jump to python'"
      ],
      "metadata": {
        "id": "hU-yBa5e8VoO"
      }
    },
    {
      "cell_type": "code",
      "execution_count": 5,
      "metadata": {
        "colab": {
          "base_uri": "https://localhost:8080/"
        },
        "id": "SfvJzZn18U9S",
        "outputId": "215efdc3-d9e1-41cf-9575-8d5064d250c3"
      },
      "outputs": [
        {
          "output_type": "stream",
          "name": "stdout",
          "text": [
            "3\n",
            "0.75\n"
          ]
        },
        {
          "output_type": "execute_result",
          "data": {
            "text/plain": [
              "6"
            ]
          },
          "metadata": {},
          "execution_count": 5
        }
      ],
      "source": [
        "print(1 + 2)    #사칙연산에서 더하기와 빼기는 기호르 그대로 사용하나, 나눗셈과 곱셈은 우리가 아는 일반적인 기호와 다르다.\n",
        "                #Concerning the numerical expression, adding and subtraction are familiar with what we use normally,\n",
        "print(3/4)      # division and multiplication use marks that are diffrent to what we used to\n",
        "2*3"
      ]
    },
    {
      "cell_type": "markdown",
      "source": [
        "파이썬은 대소문자를 구별합니다. Print문은 생략해서 사용할 수도 있습니다.\n",
        "\n",
        "Python distinguishes between uppercase and lowercase letters. We can also omit the Print Statement."
      ],
      "metadata": {
        "id": "Zztv-L1u-XNZ"
      }
    },
    {
      "cell_type": "code",
      "source": [
        "a = 'pyton'    #변수에 문자를 대입하고 출력하기\n",
        "print(a)       #파이썬은 대소문자를 구별한다. print를 PRINT로 쓰면 정의되지 않았다는 오류 메시지가 나온다.\n",
        "a"
      ],
      "metadata": {
        "colab": {
          "base_uri": "https://localhost:8080/",
          "height": 54
        },
        "id": "Xn2I6uI_-Anb",
        "outputId": "ede7db29-07f9-4d24-e707-5d883ccb9d76"
      },
      "execution_count": 6,
      "outputs": [
        {
          "output_type": "stream",
          "name": "stdout",
          "text": [
            "pyton\n"
          ]
        },
        {
          "output_type": "execute_result",
          "data": {
            "application/vnd.google.colaboratory.intrinsic+json": {
              "type": "string"
            },
            "text/plain": [
              "'pyton'"
            ]
          },
          "metadata": {},
          "execution_count": 6
        }
      ]
    },
    {
      "cell_type": "markdown",
      "source": [
        "If절\n",
        "\n",
        "if a > 1: 다음 문장은 Tab 키 또는 Spacebar 키 4개를 이용해 반드시 들여쓰기 한 후에 print(\"a is greater than 1\")이라고 작성해야 한다."
      ],
      "metadata": {
        "id": "bed9ZjBq-3Nu"
      }
    },
    {
      "cell_type": "code",
      "source": [
        "a = 3\n",
        "if a > 1:\n",
        "  print(\"a is greater than 1\")"
      ],
      "metadata": {
        "colab": {
          "base_uri": "https://localhost:8080/"
        },
        "id": "5VZkFSKA-4ea",
        "outputId": "86fa922b-21ae-4d7e-914d-b0c182efda3e"
      },
      "execution_count": 8,
      "outputs": [
        {
          "output_type": "stream",
          "name": "stdout",
          "text": [
            "a is greater than 1\n"
          ]
        }
      ]
    },
    {
      "cell_type": "markdown",
      "source": [
        "반복문 for\n",
        "\n",
        "for문을 사용하면 실행해야 할 문장을 여러 번 반복해서 실행시킬 수 있다.\n",
        "\n",
        "By using 'for' statement, we can implement the sentence muiltply."
      ],
      "metadata": {
        "id": "oPae32cC_UPb"
      }
    },
    {
      "cell_type": "code",
      "source": [
        "for a in [1,2,3]:\n",
        "  print(a)"
      ],
      "metadata": {
        "colab": {
          "base_uri": "https://localhost:8080/"
        },
        "id": "a5mmbO4y_jWd",
        "outputId": "b1e5fc15-30b0-40bf-c370-c6adf058923b"
      },
      "execution_count": 9,
      "outputs": [
        {
          "output_type": "stream",
          "name": "stdout",
          "text": [
            "1\n",
            "2\n",
            "3\n"
          ]
        }
      ]
    },
    {
      "cell_type": "markdown",
      "source": [
        "반복문 while\n",
        "\n"
      ],
      "metadata": {
        "id": "UOjBUEx4AAH_"
      }
    },
    {
      "cell_type": "code",
      "source": [
        "i = 0\n",
        "while i < 3:\n",
        "  i = i+1\n",
        "  print(i)"
      ],
      "metadata": {
        "colab": {
          "base_uri": "https://localhost:8080/"
        },
        "id": "v0IbBJgfADWR",
        "outputId": "1257e65e-95ba-48a6-c327-d54da8178ca9"
      },
      "execution_count": 12,
      "outputs": [
        {
          "output_type": "stream",
          "name": "stdout",
          "text": [
            "1\n",
            "2\n",
            "3\n"
          ]
        }
      ]
    },
    {
      "cell_type": "markdown",
      "source": [
        "함수\n",
        "\n",
        "파이썬에서 def는 함수를 만들 때 사용하는 예약어이다. 위 예제는 add 함수를 만들고 그 함수를 어떻게 사용하는지를 보여준다.(예약어란 프로그래밍 언어에서 이미 문법적인 용도로 사용하고 있는 단어를 말한다.)"
      ],
      "metadata": {
        "id": "CTp7mbPOAiNG"
      }
    },
    {
      "cell_type": "code",
      "source": [
        "def add(a,b):\n",
        "  return(a+b)\n",
        "\n",
        "add(3,4)"
      ],
      "metadata": {
        "colab": {
          "base_uri": "https://localhost:8080/"
        },
        "id": "T1BpxHswAtIB",
        "outputId": "58fb5c7f-3064-4b5b-9277-05b3e1b0195d"
      },
      "execution_count": 14,
      "outputs": [
        {
          "output_type": "execute_result",
          "data": {
            "text/plain": [
              "7"
            ]
          },
          "metadata": {},
          "execution_count": 14
        }
      ]
    },
    {
      "cell_type": "code",
      "source": [
        "'''\n",
        "02장 파이썬 프로그래밍의 기초, 자료형\n",
        "어떤 프로그래밍 언어든 \"그 언어의 자료형을 알고 이해할 수 있다면 이미 그 언어의 절반을 터득한 것이나 다름없다\"는 말이 있다.\n",
        "자료형이란 프로그래밍을 할 때 쓰이는 숫자, 문자열 등 자료 형태로 사용하는 모든 것을 뜻한다. 프로그램의 기본이자 핵심 단위가 바로 자료형\n",
        "'''\n",
        "\n",
        "'''\n",
        "숫자형\n",
        "숫자형이란 숫자 형태로 이루어진 자료형, 정수 실수 8진수 16진수 등이 있음.\n",
        "'''\n",
        "\n",
        "#정수형(integer), 양의 정수 음의 정수 0\n",
        "a = 123 \n",
        "a = -178 \n",
        "a = 0\n",
        "\n",
        "#실수형(Floating-point), 소수점이 포함된 숫자\n",
        "a = 1.2 \n",
        "a = -3.45\n",
        "a = 4.24E10  \n",
        "b = 4.24e-10\n",
        "#위 방식은 \"컴퓨터식 지수 표현 방식\"으로 파이썬에서는 4.24e10 또는 4.24E10처럼 표현한다, 4.24 x 10의10승 4.24 x 10의-10승\n",
        "\n",
        "#8진수(Octal)와 16진수(Hexademical) \n",
        "a = 0o177 \n",
        "b = 0x8ff\n",
        "\n",
        "#사칙연산\n",
        "#기본적인 + - / *은 생략\n",
        "\n",
        "#x의 y제곱을 나타내는 ** 연산자\n",
        "a = 3\n",
        "b = 4\n",
        "a ** b\n",
        "\n",
        "#나눗셈 후 나머지를 반환하는 % 연산자\n",
        "3 % 5\n",
        "\n",
        "#나눗셈 후 몫을 반환하는 // 연산자\n",
        "print(3/5)\n",
        "3//5\n",
        "\n"
      ],
      "metadata": {
        "colab": {
          "base_uri": "https://localhost:8080/"
        },
        "id": "ZgqrhCpEBmCP",
        "outputId": "e95c5044-9e69-42d4-cafd-c8fbce195452"
      },
      "execution_count": 26,
      "outputs": [
        {
          "output_type": "stream",
          "name": "stdout",
          "text": [
            "0.6\n"
          ]
        },
        {
          "output_type": "execute_result",
          "data": {
            "text/plain": [
              "0"
            ]
          },
          "metadata": {},
          "execution_count": 26
        }
      ]
    },
    {
      "cell_type": "markdown",
      "source": [
        "#### **문자열**\n",
        "\n",
        "문자열(String)이란 문자, 단어 등으로 구성된 문자들의 집합을 의미한다.\n",
        "\n",
        "\"Life is too short, You need Python\"\n",
        "\n",
        "\"a\"\n",
        "\n",
        "\"123\"\n",
        "\n",
        "따옴표로 둘러싸여 있으면 모두 문자열\n",
        "\n",
        "문자열을 만드는 방법은 4가지\n",
        "\n",
        "1.큰따옴표(\")로 양쪽 둘러싸기\n",
        "\n",
        "2.작은따옴표(')로 양쪽 둘러싸기\n",
        "\n",
        "3.큰따옴표 3개를 연속(\"\"\")으로 써서 양쪽 둘러싸기\n",
        "\n",
        "4. 작은따옴표 3개를 연속(''')으로 써서 양쪽 둘러싸기\n",
        "\n",
        "왜 4개나 있느냐? 예시로 이해.\n",
        "\n",
        "food = \"Python's favorite food is perl\" (큰 따옴표 안의 작은 따옴표는 인식x)\n",
        "\n",
        "say = '\"Python is very easy.\" he says.' (작은 따옴표 안의 큰 따옴표)\n",
        "\n",
        "백슬래시(\\)를 작은따옴표(')나 큰따옴표(\") 앞에 삽입하면 백슬래시(\\) 뒤의 작은따옴표(')나 큰따옴표(\")는 문자열을 둘러싸는 기호의 의미가 아니라 문자 ('), (\") 그 자체를 뜻하게 된다.\n",
        "ex) say = \"\\\"Python is very easy.\\\" he says.\"\n",
        "\n"
      ],
      "metadata": {
        "id": "NQ67UpBpEx0G"
      }
    },
    {
      "cell_type": "code",
      "source": [
        ""
      ],
      "metadata": {
        "id": "KIo-x1fgKdbt"
      },
      "execution_count": null,
      "outputs": []
    },
    {
      "cell_type": "code",
      "source": [
        "food = 'Mr.Lee\\'s favorite food is gum'\n",
        "print(food)\n",
        "\n",
        "say = '\\'what did you say?\\' he said'\n",
        "\n",
        "print(say)"
      ],
      "metadata": {
        "id": "853ZTBRKKdUY"
      },
      "execution_count": null,
      "outputs": []
    },
    {
      "cell_type": "code",
      "source": [
        "sentence = 'You are totally wrong\\n Bullshit'\n",
        "\n",
        "sentence2 = '''\n",
        "you are totally wrong\n",
        "Bullshit!\n",
        "'''\n",
        "\n",
        "print(sentence) \n",
        "print(sentence2)\n",
        "sentence2         #?? 왜 PRINT 안쓰면 저렇게 나오는지??"
      ],
      "metadata": {
        "id": "RBvFX_w5KdMy"
      },
      "execution_count": null,
      "outputs": []
    },
    {
      "cell_type": "code",
      "source": [
        "head = 'I am'\n",
        "Tail = ' Park'\n",
        "\n",
        "print(head + Tail)\n",
        "\n",
        "a = \"Python\"\n",
        "\n",
        "print(a * 2)\n",
        "\n",
        "print(\"=\" * 50)\n",
        "print(\"My first programming\")\n",
        "print(\"=\" * 50)\n",
        "\n",
        "a = 'whatihlsdhskladfhiasf'\n",
        "len(a)"
      ],
      "metadata": {
        "id": "dHj8Kjy1KdBY"
      },
      "execution_count": null,
      "outputs": []
    },
    {
      "cell_type": "markdown",
      "source": [
        "자료가 날라가버렸다. 함부로 단축키를 쓰지 말자."
      ],
      "metadata": {
        "id": "zC6BSDI2KzTz"
      }
    },
    {
      "cell_type": "markdown",
      "source": [
        "####문자열 인덱싱과 슬라이싱\n",
        "\n",
        "\n",
        "인덱싱(Indexing)이란 무엇인가를 \"가리킨다\"는 의미이고, 슬라이싱(Slicing)은 무엇인가를 \"잘라낸다\"는 의미이다."
      ],
      "metadata": {
        "id": "ZcvG4ABqK3QR"
      }
    },
    {
      "cell_type": "code",
      "source": [
        "a = 'Korea university is one of the unviersity that is in korea'\n",
        "\n",
        "#print(a[3])   #\"파이썬은 0부터 숫자를 센다.\"\n",
        "#print(a[-1])  #-붙으면 뒤에서부터, 근데 맨뒤가 -1 0보다 한 칸 더 뒤로니깐\n",
        "\n",
        "b = a[0] + a[-1] + a[8] + a[4]\n",
        "\n",
        "#print(b)\n",
        "#print(a[0:5])     #뒤에꺼는 포함 안됨.\n",
        "#print(a[:5])\n",
        "#print(a[6:]) \n",
        "\n",
        "a = 'Kodea' \n",
        "\n",
        "a[0:2] + 'r' + a[3:]\n"
      ],
      "metadata": {
        "colab": {
          "base_uri": "https://localhost:8080/",
          "height": 35
        },
        "id": "BULK702vLFtV",
        "outputId": "c6af82eb-0470-4901-b6dd-8143e2daeb38"
      },
      "execution_count": 55,
      "outputs": [
        {
          "output_type": "execute_result",
          "data": {
            "application/vnd.google.colaboratory.intrinsic+json": {
              "type": "string"
            },
            "text/plain": [
              "'Korea'"
            ]
          },
          "metadata": {},
          "execution_count": 55
        }
      ]
    },
    {
      "cell_type": "markdown",
      "source": [
        "####문자열 포매팅\n",
        "\"현재 온도는 18도입니다.\"\n",
        "\n",
        "시간이 지나서 20도가 되면 다음 문장을 출력한다.\n",
        "\n",
        "\"현재 온도는 20도입니다\"\n",
        "\n",
        "위 두 문자열은 모두 같은데 20이라는 숫자와 18이라는 숫자만 다르다. 이렇게 문자열 안의 특정한 값을 바꿔야 할 경우가 있을 때 이것을 가능하게 해주는 것이 바로 문자열 포매팅 기법."
      ],
      "metadata": {
        "id": "QgOP9GsRNGoc"
      }
    },
    {
      "cell_type": "code",
      "source": [
        "\"I eat %d apples\" % 3\n",
        "\n",
        "\"i eat %s apples\" % \"five\"\n",
        "\n",
        "\"i ate %d apples yesterday, so i was sick for %s days\" % (10, \"five\")  #변수로 만들어서 대입해도 된다. %s의 쓰임이 굉장히 자유로움\n",
        "\n",
        "\"Error is %s%%\" % 98"
      ],
      "metadata": {
        "colab": {
          "base_uri": "https://localhost:8080/",
          "height": 35
        },
        "id": "1MzFnsqANV1K",
        "outputId": "8d588608-b67e-4380-ccb4-5c2fafdda1b7"
      },
      "execution_count": 64,
      "outputs": [
        {
          "output_type": "execute_result",
          "data": {
            "application/vnd.google.colaboratory.intrinsic+json": {
              "type": "string"
            },
            "text/plain": [
              "'Error is 98%'"
            ]
          },
          "metadata": {},
          "execution_count": 64
        }
      ]
    },
    {
      "cell_type": "markdown",
      "source": [
        "위에서 %와 문자를 통해 문자열 안에 특정 값을 넣는 것이 포맷 코드이고, \n",
        "이 포맷 코드를 숫자와 함께 쓸 수도 있다."
      ],
      "metadata": {
        "id": "zF0mfFh9P5St"
      }
    },
    {
      "cell_type": "code",
      "source": [
        "\"%10s\" %'hi'"
      ],
      "metadata": {
        "colab": {
          "base_uri": "https://localhost:8080/",
          "height": 35
        },
        "id": "douU0EGYQBz_",
        "outputId": "53388678-33da-498c-da30-f8a011be574d"
      },
      "execution_count": 66,
      "outputs": [
        {
          "output_type": "execute_result",
          "data": {
            "application/vnd.google.colaboratory.intrinsic+json": {
              "type": "string"
            },
            "text/plain": [
              "'        hi'"
            ]
          },
          "metadata": {},
          "execution_count": 66
        }
      ]
    }
  ]
}