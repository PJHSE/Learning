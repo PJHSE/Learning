{
  "nbformat": 4,
  "nbformat_minor": 0,
  "metadata": {
    "colab": {
      "name": "Untitled7.ipynb",
      "provenance": [],
      "collapsed_sections": [],
      "authorship_tag": "ABX9TyN9Svr16sJFE0RuOEDaV69S",
      "include_colab_link": true
    },
    "kernelspec": {
      "name": "python3",
      "display_name": "Python 3"
    },
    "language_info": {
      "name": "python"
    }
  },
  "cells": [
    {
      "cell_type": "markdown",
      "metadata": {
        "id": "view-in-github",
        "colab_type": "text"
      },
      "source": [
        "<a href=\"https://colab.research.google.com/github/PJHSE/Learning/blob/main/Untitled7.ipynb\" target=\"_parent\"><img src=\"https://colab.research.google.com/assets/colab-badge.svg\" alt=\"Open In Colab\"/></a>"
      ]
    },
    {
      "cell_type": "markdown",
      "source": [
        "조건문, 반복문\n",
        "\n",
        "if, ~하면 ~한다. \n",
        "\n",
        "들여쓰기 중요. 문법. If 뒤에 식은 결국 boolean 자료형\n",
        "\n",
        "or(|) 둘 중에 하나 true -> true 둘다 false -> false\n",
        "\n",
        "and 둘 다 true -> true. "
      ],
      "metadata": {
        "id": "4cp5caBWAze6"
      }
    },
    {
      "cell_type": "code",
      "execution_count": 8,
      "metadata": {
        "colab": {
          "base_uri": "https://localhost:8080/"
        },
        "id": "FmBHu43HAuOn",
        "outputId": "6e8f90e4-d326-4a93-8d29-addba0e12551"
      },
      "outputs": [
        {
          "output_type": "stream",
          "name": "stdout",
          "text": [
            "걸어가자.\n"
          ]
        }
      ],
      "source": [
        "money = True\n",
        "budget = False\n",
        "if 0:\n",
        "  print(\"택시를 타고 가자.\")\n",
        "else:\n",
        "  print('걸어가자.')"
      ]
    },
    {
      "cell_type": "code",
      "source": [
        "a = 3\n",
        "b = 4\n",
        "if a == b & a < b:\n",
        "  print('참')\n",
        "if a != b:\n",
        "  print('참참')\n",
        "else:\n",
        "  print('참이면서 거짓')"
      ],
      "metadata": {
        "colab": {
          "base_uri": "https://localhost:8080/"
        },
        "id": "3zlqzUrfBu1b",
        "outputId": "41091a34-a472-46b1-d11d-b04bbbdea275"
      },
      "execution_count": 15,
      "outputs": [
        {
          "output_type": "stream",
          "name": "stdout",
          "text": [
            "참참\n"
          ]
        }
      ]
    },
    {
      "cell_type": "code",
      "source": [
        "if 0:\n",
        "  pass\n",
        "else:\n",
        "  print('pass의 사용법')"
      ],
      "metadata": {
        "colab": {
          "base_uri": "https://localhost:8080/"
        },
        "id": "Xv75JjYWCu0j",
        "outputId": "f73b994c-b531-4a61-b3ed-2b1c8f626d82"
      },
      "execution_count": 17,
      "outputs": [
        {
          "output_type": "stream",
          "name": "stdout",
          "text": [
            "pass의 사용법\n"
          ]
        }
      ]
    },
    {
      "cell_type": "code",
      "source": [
        "Mike = ['card', 'money', 'id card', 'elders']\n",
        "if 'driver license' in Mike:\n",
        "  print('할인 입장이 가능')\n",
        "elif 'elders' in Mike:\n",
        "  print('무료 입장이 가능')\n",
        "else:\n",
        "  print('입장 불가')"
      ],
      "metadata": {
        "colab": {
          "base_uri": "https://localhost:8080/"
        },
        "id": "xZx_DtYVEWwA",
        "outputId": "dfe360e0-16a4-4fe3-a18a-95276246e655"
      },
      "execution_count": 28,
      "outputs": [
        {
          "output_type": "stream",
          "name": "stdout",
          "text": [
            "무료 입장이 가능\n"
          ]
        }
      ]
    },
    {
      "cell_type": "code",
      "source": [
        "score = 70\n",
        "if score >= 60:\n",
        "  message = \"success\"\n",
        "else:\n",
        "  message = \"Failure\"\n",
        "\n",
        "print(message)"
      ],
      "metadata": {
        "colab": {
          "base_uri": "https://localhost:8080/"
        },
        "id": "pVk3PX1-FC1K",
        "outputId": "cac79dfe-87e4-47e5-ac77-b7dafe40b857"
      },
      "execution_count": 30,
      "outputs": [
        {
          "output_type": "stream",
          "name": "stdout",
          "text": [
            "success\n"
          ]
        }
      ]
    },
    {
      "cell_type": "code",
      "source": [
        "#위에 걸 이렇게 바꿔볼 수 있다.\n",
        "#조건부표현식, 성공일 때 조건을 먼저 써주고, 조건식을 써준다.\n",
        "\n",
        "message = \"success\" if score >= 60 else \"failure\"\n",
        "\n",
        "print(message)"
      ],
      "metadata": {
        "colab": {
          "base_uri": "https://localhost:8080/"
        },
        "id": "0KRGgmOdJPrl",
        "outputId": "a9dcfccc-db7e-4cf2-8975-47fdad794a9d"
      },
      "execution_count": 32,
      "outputs": [
        {
          "output_type": "stream",
          "name": "stdout",
          "text": [
            "success\n"
          ]
        }
      ]
    },
    {
      "cell_type": "markdown",
      "source": [
        "반복문\n",
        "\n",
        "while문 \n",
        "기본구조\n",
        "\n",
        "<조건문>:           (불자료형)\n",
        " <수행할 문장 1>\n",
        " <수행할 문장 2>\n",
        " <수행할 문장 3>\n",
        " ..."
      ],
      "metadata": {
        "id": "GwUhClNAJ6KZ"
      }
    },
    {
      "cell_type": "code",
      "source": [
        "Mountofwater = 0\n",
        "while Mountofwater < 20:\n",
        "  Mountofwater = Mountofwater + 2\n",
        "  print('물을 2리터 마셨습니다')\n",
        "  if Mountofwater == 20:\n",
        "    print('더이상 마실 수 없습니다.')"
      ],
      "metadata": {
        "colab": {
          "base_uri": "https://localhost:8080/"
        },
        "id": "igZB1XXQJeG0",
        "outputId": "684dab3e-42cc-40f4-ba47-a028a80b3c99"
      },
      "execution_count": 36,
      "outputs": [
        {
          "output_type": "stream",
          "name": "stdout",
          "text": [
            "물을 2리터 마셨습니다\n",
            "물을 2리터 마셨습니다\n",
            "물을 2리터 마셨습니다\n",
            "물을 2리터 마셨습니다\n",
            "물을 2리터 마셨습니다\n",
            "물을 2리터 마셨습니다\n",
            "물을 2리터 마셨습니다\n",
            "물을 2리터 마셨습니다\n",
            "물을 2리터 마셨습니다\n",
            "물을 2리터 마셨습니다\n",
            "더이상 마실 수 없습니다.\n"
          ]
        }
      ]
    },
    {
      "cell_type": "code",
      "source": [
        "coffee = 10\n",
        "money = 300\n",
        "while money:\n",
        "  print('계산이 되었으니 커피를 드립니다')\n",
        "  coffee = coffee -1\n",
        "  print(\"커피의 남은 양은 %d개 입니다.\" %coffee)\n",
        "  if not coffee:\n",
        "    print('커피 매진입니다')\n",
        "    break"
      ],
      "metadata": {
        "colab": {
          "base_uri": "https://localhost:8080/"
        },
        "id": "kiduvWE-Ky1F",
        "outputId": "b7c4a736-0f5a-4e94-f113-95cea7013d70"
      },
      "execution_count": 44,
      "outputs": [
        {
          "output_type": "stream",
          "name": "stdout",
          "text": [
            "계산이 되었으니 커피를 드립니다\n",
            "커피의 남은 양은 9개 입니다.\n",
            "계산이 되었으니 커피를 드립니다\n",
            "커피의 남은 양은 8개 입니다.\n",
            "계산이 되었으니 커피를 드립니다\n",
            "커피의 남은 양은 7개 입니다.\n",
            "계산이 되었으니 커피를 드립니다\n",
            "커피의 남은 양은 6개 입니다.\n",
            "계산이 되었으니 커피를 드립니다\n",
            "커피의 남은 양은 5개 입니다.\n",
            "계산이 되었으니 커피를 드립니다\n",
            "커피의 남은 양은 4개 입니다.\n",
            "계산이 되었으니 커피를 드립니다\n",
            "커피의 남은 양은 3개 입니다.\n",
            "계산이 되었으니 커피를 드립니다\n",
            "커피의 남은 양은 2개 입니다.\n",
            "계산이 되었으니 커피를 드립니다\n",
            "커피의 남은 양은 1개 입니다.\n",
            "계산이 되었으니 커피를 드립니다\n",
            "커피의 남은 양은 0개 입니다.\n",
            "커피 매진입니다\n"
          ]
        }
      ]
    },
    {
      "cell_type": "code",
      "source": [
        "a = 0\n",
        "while a < 10:\n",
        "  a = a+1 \n",
        "  if a % 2 == 0:\n",
        "    continue\n",
        "  print(a)"
      ],
      "metadata": {
        "colab": {
          "base_uri": "https://localhost:8080/"
        },
        "id": "ee5_TDk4MVh9",
        "outputId": "66e41cac-c710-4af7-b969-fb50996ffaf8"
      },
      "execution_count": 48,
      "outputs": [
        {
          "output_type": "stream",
          "name": "stdout",
          "text": [
            "1\n",
            "3\n",
            "5\n",
            "7\n",
            "9\n"
          ]
        }
      ]
    },
    {
      "cell_type": "markdown",
      "source": [
        "for문\n",
        "\n",
        "기본 구조\n",
        "\n",
        "for 변수 in 리스트(또는 튜플, 문자열):\n",
        "  수행할 문장 1\n",
        "  수행할 문장 2\n",
        "  ...\n",
        "\n",
        "  "
      ],
      "metadata": {
        "id": "KT3XyAolOtD0"
      }
    },
    {
      "cell_type": "code",
      "source": [
        "test_list = ['one', 'two', 'three']\n",
        "for i in test_list:\n",
        "  print(i)"
      ],
      "metadata": {
        "colab": {
          "base_uri": "https://localhost:8080/"
        },
        "id": "A_dl2SYnN8Nc",
        "outputId": "c29305d7-79ec-4eb1-d17e-59cd51906d52"
      },
      "execution_count": 49,
      "outputs": [
        {
          "output_type": "stream",
          "name": "stdout",
          "text": [
            "one\n",
            "two\n",
            "three\n"
          ]
        }
      ]
    },
    {
      "cell_type": "code",
      "source": [
        "a = [(1,2), (3,4), (5,6)]\n",
        "for (b,c) in a:\n",
        "  if b+c <= 3:\n",
        "    continue\n",
        "  else: print(b,c)\n"
      ],
      "metadata": {
        "colab": {
          "base_uri": "https://localhost:8080/"
        },
        "id": "IBJthaa7PMxd",
        "outputId": "764a9d59-2d91-4023-c019-e2823d91055f"
      },
      "execution_count": 62,
      "outputs": [
        {
          "output_type": "stream",
          "name": "stdout",
          "text": [
            "3 4\n",
            "5 6\n"
          ]
        }
      ]
    },
    {
      "cell_type": "code",
      "source": [
        "#60점이 넘으면 합격이고, 그렇지 않으면 불합격\n",
        "mark = [90, 73, 60, 59, 23, 73]\n",
        "\n",
        "number = 0\n",
        "for i in mark:\n",
        "  number = number + 1\n",
        "  if i >= 60:\n",
        "    print('%s번 학생은 합격입니다.' %number)\n",
        "  else:\n",
        "    print('%s번 학생은 불합격입니다.' %number)"
      ],
      "metadata": {
        "colab": {
          "base_uri": "https://localhost:8080/"
        },
        "id": "X72rgHWFPi5b",
        "outputId": "4ad3fe46-2e0a-4d56-8a0d-3c3c35ada4ec"
      },
      "execution_count": 75,
      "outputs": [
        {
          "output_type": "stream",
          "name": "stdout",
          "text": [
            "1번 학생은 합격입니다.\n",
            "2번 학생은 합격입니다.\n",
            "3번 학생은 합격입니다.\n",
            "4번 학생은 불합격입니다.\n",
            "5번 학생은 불합격입니다.\n",
            "6번 학생은 합격입니다.\n"
          ]
        }
      ]
    },
    {
      "cell_type": "code",
      "source": [
        "sum = 0\n",
        "for i in range (1, 11):\n",
        "  sum = sum + i\n",
        "print(sum)"
      ],
      "metadata": {
        "colab": {
          "base_uri": "https://localhost:8080/"
        },
        "id": "NxplNHP0Q9Q5",
        "outputId": "70697186-bdc9-496d-bc6f-d448c56bb81b"
      },
      "execution_count": 79,
      "outputs": [
        {
          "output_type": "stream",
          "name": "stdout",
          "text": [
            "55\n"
          ]
        }
      ]
    },
    {
      "cell_type": "code",
      "source": [
        "for i in range (2,10):\n",
        "  for j in range (1,10):\n",
        "    print (i*j, end=\", \")\n",
        "  print('')"
      ],
      "metadata": {
        "colab": {
          "base_uri": "https://localhost:8080/"
        },
        "id": "DLfXbYtJTuKd",
        "outputId": "d45e71fd-b8e0-4525-8cbc-1328b12e9b87"
      },
      "execution_count": 89,
      "outputs": [
        {
          "output_type": "stream",
          "name": "stdout",
          "text": [
            "2, 4, 6, 8, 10, 12, 14, 16, 18, \n",
            "3, 6, 9, 12, 15, 18, 21, 24, 27, \n",
            "4, 8, 12, 16, 20, 24, 28, 32, 36, \n",
            "5, 10, 15, 20, 25, 30, 35, 40, 45, \n",
            "6, 12, 18, 24, 30, 36, 42, 48, 54, \n",
            "7, 14, 21, 28, 35, 42, 49, 56, 63, \n",
            "8, 16, 24, 32, 40, 48, 56, 64, 72, \n",
            "9, 18, 27, 36, 45, 54, 63, 72, 81, \n"
          ]
        }
      ]
    },
    {
      "cell_type": "code",
      "source": [
        "result = [num*3 for num in a]\n",
        "print(result)"
      ],
      "metadata": {
        "colab": {
          "base_uri": "https://localhost:8080/"
        },
        "id": "c1SdGPQPUYJr",
        "outputId": "92831395-d76a-4408-c281-0eabf51baedd"
      },
      "execution_count": 90,
      "outputs": [
        {
          "output_type": "stream",
          "name": "stdout",
          "text": [
            "[(1, 2, 1, 2, 1, 2), (3, 4, 3, 4, 3, 4), (5, 6, 5, 6, 5, 6)]\n"
          ]
        }
      ]
    },
    {
      "cell_type": "code",
      "source": [
        "result = []\n",
        "for x in range (2,10):\n",
        "  for y in range (1,10):\n",
        "    result.append(x*y)\n",
        "\n",
        "print(result)"
      ],
      "metadata": {
        "colab": {
          "base_uri": "https://localhost:8080/"
        },
        "id": "eO6gWnNGV8lJ",
        "outputId": "1f31686f-1e5c-484b-dc92-b99942d03031"
      },
      "execution_count": 99,
      "outputs": [
        {
          "output_type": "stream",
          "name": "stdout",
          "text": [
            "[2, 4, 6, 8, 10, 12, 14, 16, 18, 3, 6, 9, 12, 15, 18, 21, 24, 27, 4, 8, 12, 16, 20, 24, 28, 32, 36, 5, 10, 15, 20, 25, 30, 35, 40, 45, 6, 12, 18, 24, 30, 36, 42, 48, 54, 7, 14, 21, 28, 35, 42, 49, 56, 63, 8, 16, 24, 32, 40, 48, 56, 64, 72, 9, 18, 27, 36, 45, 54, 63, 72, 81]\n"
          ]
        }
      ]
    },
    {
      "cell_type": "code",
      "source": [
        "result = [x*y for x in range(2,10) for y in range(1,10)]\n",
        "print(result)"
      ],
      "metadata": {
        "colab": {
          "base_uri": "https://localhost:8080/"
        },
        "id": "s-1cx8U_WbvX",
        "outputId": "9fce0aa6-ee65-4a67-ef3b-370163f97c97"
      },
      "execution_count": 103,
      "outputs": [
        {
          "output_type": "stream",
          "name": "stdout",
          "text": [
            "[2, 4, 6, 8, 10, 12, 14, 16, 18, 3, 6, 9, 12, 15, 18, 21, 24, 27, 4, 8, 12, 16, 20, 24, 28, 32, 36, 5, 10, 15, 20, 25, 30, 35, 40, 45, 6, 12, 18, 24, 30, 36, 42, 48, 54, 7, 14, 21, 28, 35, 42, 49, 56, 63, 8, 16, 24, 32, 40, 48, 56, 64, 72, 9, 18, 27, 36, 45, 54, 63, 72, 81]\n"
          ]
        }
      ]
    },
    {
      "cell_type": "code",
      "source": [
        "score = [25, 35, 18, 40, 60, 80 ]\n",
        "number = 0\n",
        "for i in score:\n",
        "  number = number + 1\n",
        "  if i < 60:\n",
        "    continue\n",
        " # else:\n",
        " #   print('%d번 학생 첫번 째 합격생입니다.'%number)\n",
        "  break\n",
        "print('%d번 학생 첫번 째 합격생입니다.'%number)"
      ],
      "metadata": {
        "colab": {
          "base_uri": "https://localhost:8080/"
        },
        "id": "mIa5weClW7SZ",
        "outputId": "4ae3257b-efaf-492a-d1b8-d7e00a393718"
      },
      "execution_count": 107,
      "outputs": [
        {
          "output_type": "stream",
          "name": "stdout",
          "text": [
            "5번 학생 첫번 째 합격생입니다.\n"
          ]
        }
      ]
    },
    {
      "cell_type": "markdown",
      "source": [
        "함수\n",
        "\n",
        "프로그래밍에서의 함수는 입력과 출력이 없을 수 있다.\n",
        "\n",
        "파이썬에서의 함수 구조\n",
        "\n",
        "def 함수명(매개변수)\n",
        "  <수행할 문장1>\n",
        "  <수행할 문장2>\n",
        "  ...\n",
        "  return\n",
        "\n",
        "\n",
        "함수는 정의만으로 실행되지 않고 호출해야만."
      ],
      "metadata": {
        "id": "B2y5p9xre1Bp"
      }
    },
    {
      "cell_type": "code",
      "source": [
        "def sum(a,b):\n",
        "  result = a + b\n",
        "  return result\n",
        "\n",
        "sum(3,6)"
      ],
      "metadata": {
        "colab": {
          "base_uri": "https://localhost:8080/"
        },
        "id": "dpa3-H94X9sq",
        "outputId": "303b47b6-a153-42b2-fbd3-5bb2f302b962"
      },
      "execution_count": 108,
      "outputs": [
        {
          "output_type": "execute_result",
          "data": {
            "text/plain": [
              "9"
            ]
          },
          "metadata": {},
          "execution_count": 108
        }
      ]
    },
    {
      "cell_type": "code",
      "source": [
        "def say():\n",
        "  return 'hi'\n",
        "\n",
        "say()\n",
        "\n",
        "#요렇게 입력이 없을 수 있다."
      ],
      "metadata": {
        "colab": {
          "base_uri": "https://localhost:8080/",
          "height": 35
        },
        "id": "o0J_qWqPfQm9",
        "outputId": "981d5e99-8686-451d-904b-e48e455baaba"
      },
      "execution_count": 109,
      "outputs": [
        {
          "output_type": "execute_result",
          "data": {
            "application/vnd.google.colaboratory.intrinsic+json": {
              "type": "string"
            },
            "text/plain": [
              "'hi'"
            ]
          },
          "metadata": {},
          "execution_count": 109
        }
      ]
    },
    {
      "cell_type": "code",
      "source": [
        "def sum(a,b):\n",
        "  print('%d, %d의 합은 %d입니다.' %(a, b, a+b))\n",
        "\n",
        "#여기서 보면 return이 없음 ! 결과값이 없는 것. 출력값이 없는 것. "
      ],
      "metadata": {
        "id": "RXhSBi85fk6T"
      },
      "execution_count": 110,
      "outputs": []
    },
    {
      "cell_type": "code",
      "source": [
        "sum(3,4)"
      ],
      "metadata": {
        "colab": {
          "base_uri": "https://localhost:8080/"
        },
        "id": "P1SFv7RGf16O",
        "outputId": "6cf49c9c-c3a7-4a7a-e2ca-aaf48f1bc65e"
      },
      "execution_count": 113,
      "outputs": [
        {
          "output_type": "stream",
          "name": "stdout",
          "text": [
            "3, 4의 합은 7입니다.\n"
          ]
        }
      ]
    },
    {
      "cell_type": "code",
      "source": [
        "def sum_many(*args):\n",
        "  sum=0\n",
        "  for i in args:\n",
        "    sum = sum + i\n",
        "  return sum\n",
        "\n",
        "print(sum_many(1,2,3))"
      ],
      "metadata": {
        "colab": {
          "base_uri": "https://localhost:8080/"
        },
        "id": "Pw-3wuj4f3Ny",
        "outputId": "7f985187-e518-4428-e8b5-134bae37f388"
      },
      "execution_count": 115,
      "outputs": [
        {
          "output_type": "stream",
          "name": "stdout",
          "text": [
            "6\n"
          ]
        }
      ]
    },
    {
      "cell_type": "code",
      "source": [
        "def print_kwargs(**kwargs):\n",
        "  for k in kwargs.keys():\n",
        "    if(k==\"name\"):\n",
        "      print('당신의 이름은 :' + k)\n",
        "\n",
        "print(print_kwargs(a=\"1\", b=\"2\"))"
      ],
      "metadata": {
        "colab": {
          "base_uri": "https://localhost:8080/"
        },
        "id": "X4UB69NSg1pm",
        "outputId": "29246b03-77c8-4f25-f4ea-325e2878dc89"
      },
      "execution_count": 8,
      "outputs": [
        {
          "output_type": "stream",
          "name": "stdout",
          "text": [
            "None\n"
          ]
        }
      ]
    },
    {
      "cell_type": "code",
      "source": [
        "def character(a,b):\n",
        "  return a+b, a*b, a%b"
      ],
      "metadata": {
        "id": "vIVXwcVVWE9p"
      },
      "execution_count": 9,
      "outputs": []
    },
    {
      "cell_type": "code",
      "source": [
        "character(4,2)[0]\n",
        "\n",
        "#함수의 결과값은 하나이다. 튜플 하나가 나온 것.\n",
        "#선택해서 뽑을 수도 있다."
      ],
      "metadata": {
        "colab": {
          "base_uri": "https://localhost:8080/"
        },
        "id": "fO9Sth5tXb_b",
        "outputId": "5e00ec5d-8471-46b9-b2f5-cac979bc190f"
      },
      "execution_count": 11,
      "outputs": [
        {
          "output_type": "execute_result",
          "data": {
            "text/plain": [
              "6"
            ]
          },
          "metadata": {},
          "execution_count": 11
        }
      ]
    },
    {
      "cell_type": "code",
      "source": [
        "def say_myself(name, old, man=True):\n",
        "  print(\"나의 이름은 %s입니다.\"% name)\n",
        "  print(\"나는 %d살입니다.\"% old)\n",
        "  if man:\n",
        "    print('나는 남자입니다.')\n",
        "  else:\n",
        "    print('나는 여자입니다.')\n",
        "say_myself('박정현', 24)   #함수 정의하며 매개변수를 정해버려서 이렇게 뺄 수도 있다."
      ],
      "metadata": {
        "colab": {
          "base_uri": "https://localhost:8080/"
        },
        "id": "r9JpINYtXffx",
        "outputId": "fea1a999-81a1-43ff-d000-c19e7bfc5d20"
      },
      "execution_count": 23,
      "outputs": [
        {
          "output_type": "stream",
          "name": "stdout",
          "text": [
            "나의 이름은 박정현입니다.\n",
            "나는 24살입니다.\n",
            "나는 남자입니다.\n"
          ]
        }
      ]
    },
    {
      "cell_type": "code",
      "source": [
        "#함수 안에서 선언된 변수의 효력 범위\n",
        "#함수 안에서 쓰인 변수는 함수 안에서만\n",
        "a=1\n",
        "def vartest(a):\n",
        "  a = a + 1\n",
        "  return a\n",
        "a=vartest(a)\n",
        "a"
      ],
      "metadata": {
        "colab": {
          "base_uri": "https://localhost:8080/"
        },
        "id": "M8USbfaPYh_C",
        "outputId": "e20c9526-73df-4adc-9472-d7d729509210"
      },
      "execution_count": 30,
      "outputs": [
        {
          "output_type": "execute_result",
          "data": {
            "text/plain": [
              "2"
            ]
          },
          "metadata": {},
          "execution_count": 30
        }
      ]
    },
    {
      "cell_type": "code",
      "source": [
        "a=1\n",
        "def vartest():\n",
        "  global a\n",
        "  a = a+1\n",
        "vartest()\n",
        "\n",
        "print(a)"
      ],
      "metadata": {
        "colab": {
          "base_uri": "https://localhost:8080/"
        },
        "id": "14zROa2uZ2GV",
        "outputId": "fa6f3e25-1bd0-49bd-eb78-8566a5ba5512"
      },
      "execution_count": 36,
      "outputs": [
        {
          "output_type": "stream",
          "name": "stdout",
          "text": [
            "2\n"
          ]
        }
      ]
    },
    {
      "cell_type": "code",
      "source": [
        "myfirstfuction = lambda a,b: a*b*b**b\n",
        "#람다로 파이썬에서의 함수 축약 가능."
      ],
      "metadata": {
        "id": "aYpFs7W5a3DS"
      },
      "execution_count": 37,
      "outputs": []
    },
    {
      "cell_type": "code",
      "source": [
        "myfirstfuction(2,3)"
      ],
      "metadata": {
        "colab": {
          "base_uri": "https://localhost:8080/"
        },
        "id": "DZSHwb3ZbXE5",
        "outputId": "dc676393-a611-448e-8f69-60736fb25646"
      },
      "execution_count": 39,
      "outputs": [
        {
          "output_type": "execute_result",
          "data": {
            "text/plain": [
              "162"
            ]
          },
          "metadata": {},
          "execution_count": 39
        }
      ]
    },
    {
      "cell_type": "code",
      "source": [
        "myList = [lambda a,b:a%b, lambda a,b:a*b]\n",
        "\n",
        "myList[1](3,4)"
      ],
      "metadata": {
        "colab": {
          "base_uri": "https://localhost:8080/"
        },
        "id": "wL4VQju7bZM0",
        "outputId": "3f4fa2fa-0960-41c9-9161-eb86d0d87f11"
      },
      "execution_count": 41,
      "outputs": [
        {
          "output_type": "execute_result",
          "data": {
            "text/plain": [
              "12"
            ]
          },
          "metadata": {},
          "execution_count": 41
        }
      ]
    },
    {
      "cell_type": "code",
      "source": [
        "a = input(\"숫자를 입력하세요: \")"
      ],
      "metadata": {
        "colab": {
          "base_uri": "https://localhost:8080/"
        },
        "id": "IevsT8yEbyiq",
        "outputId": "446cf7d7-6639-427d-f127-9b9b54570a08"
      },
      "execution_count": 44,
      "outputs": [
        {
          "name": "stdout",
          "output_type": "stream",
          "text": [
            "숫자를 입력하세요: 123\n"
          ]
        }
      ]
    },
    {
      "cell_type": "code",
      "source": [
        "print(a)"
      ],
      "metadata": {
        "colab": {
          "base_uri": "https://localhost:8080/"
        },
        "id": "vaEK7690cJ0B",
        "outputId": "8c7547cd-28a5-4f84-cd88-3c010962a368"
      },
      "execution_count": 45,
      "outputs": [
        {
          "output_type": "stream",
          "name": "stdout",
          "text": [
            "123\n"
          ]
        }
      ]
    },
    {
      "cell_type": "code",
      "source": [
        ""
      ],
      "metadata": {
        "id": "WNfbiL0WcNxl"
      },
      "execution_count": null,
      "outputs": []
    }
  ]
}
