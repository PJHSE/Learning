{
  "nbformat": 4,
  "nbformat_minor": 0,
  "metadata": {
    "colab": {
      "name": "Untitled10.ipynb",
      "provenance": [],
      "authorship_tag": "ABX9TyMt3F/7SdhMcsaWNBoedcag",
      "include_colab_link": true
    },
    "kernelspec": {
      "name": "python3",
      "display_name": "Python 3"
    },
    "language_info": {
      "name": "python"
    }
  },
  "cells": [
    {
      "cell_type": "markdown",
      "metadata": {
        "id": "view-in-github",
        "colab_type": "text"
      },
      "source": [
        "<a href=\"https://colab.research.google.com/github/PJHSE/Learning/blob/main/20220228.ipynb\" target=\"_parent\"><img src=\"https://colab.research.google.com/assets/colab-badge.svg\" alt=\"Open In Colab\"/></a>"
      ]
    },
    {
      "cell_type": "code",
      "execution_count": null,
      "metadata": {
        "id": "OsZmaNcLrP-r"
      },
      "outputs": [],
      "source": [
        ""
      ]
    },
    {
      "cell_type": "markdown",
      "source": [
        "패키지 : 모듈 여러개를 모아놓은것\n",
        "\n"
      ],
      "metadata": {
        "id": "tagpjjQtrZ1k"
      }
    },
    {
      "cell_type": "code",
      "source": [
        "import game.sound "
      ],
      "metadata": {
        "id": "Y4WJj63orz1J"
      },
      "execution_count": null,
      "outputs": []
    },
    {
      "cell_type": "markdown",
      "source": [
        "예외처리\n",
        "\n",
        "뭔가 오류가 발생했을 때 처리하기 위한 코드"
      ],
      "metadata": {
        "id": "FXvpmHBOsxDL"
      }
    },
    {
      "cell_type": "code",
      "source": [
        "#f = open('없는 파일', 'r')\n",
        "\n",
        "#print(a)\n",
        "\n",
        "try: \n",
        "  4/0\n",
        "except ZeroDivisionError as e:\n",
        "  print(e)\n",
        "\n",
        "\n",
        "print('이러면 오류가 나도 여기가 나와')"
      ],
      "metadata": {
        "colab": {
          "base_uri": "https://localhost:8080/"
        },
        "id": "LsUJqyD3s6WG",
        "outputId": "50661538-cabe-4b48-f4a3-5af6917c82e9"
      },
      "execution_count": 5,
      "outputs": [
        {
          "output_type": "stream",
          "name": "stdout",
          "text": [
            "division by zero\n",
            "이러면 오류가 나도 여기가 나와\n"
          ]
        }
      ]
    },
    {
      "cell_type": "markdown",
      "source": [
        "내장함수 : 파이썬에 이미 들어있는 함수\n",
        "\n",
        "외장함수 : import해서 , 불러와서 쓰는"
      ],
      "metadata": {
        "id": "LDBV9zqbuBNK"
      }
    },
    {
      "cell_type": "code",
      "source": [
        "#내장함수\n",
        "print(abs(-3))  #절댓값\n",
        "print('-'*10)\n",
        "print(all([1,2,3,0])) #참 거짓 구분\n",
        "print('-'*10)\n",
        "print(dir([1,2,3])) #리스트에서 쓸 수 있는 명령어 모음\n",
        "print('-'*10)\n",
        "print(divmod(7,3)) #몫과 나머지 형태로 계산\n",
        "print('-'*10)\n",
        "for i, name in enumerate(['body', 'foo', 'bar']):\n",
        "  print(i, name)    #열거해주는 enumerate, 리스트를 딕셔너리처럼\n",
        "print('-'*10)\n",
        "\n",
        "def positive(x):\n",
        "  return x>0\n",
        "\n",
        "a = list(filter(positive, [1, -3, 2, 0, -5, 6]))   #함수를 놓고 리스트를 놓으면 함수 해당 값만 필터링 해주는.\n",
        "print(a)\n",
        "\n",
        "def positive(x):\n",
        "  return len(x) >5\n",
        "\n",
        "a = list(filter(positive, ['mike', 'lebron', 'magic', 'Hakeem']))\n",
        "print(a)\n",
        "print('-'*10)\n",
        "\n",
        "def two_times(x) : return x*2\n",
        "a= list(map(two_times,[1,2,3,4]))\n",
        "print(a)                      #mapping, lambda 기억\n",
        "\n",
        "a = list(map(lambda x: x*2, [1,2,3,4]))\n",
        "print(a)\n",
        "\n",
        "print('-'*10)\n",
        "print(max([1,2,3]))\n",
        "print(max((1,2,3)))\n",
        "print(max(\"python\"))\n",
        "print('-'*10)\n",
        "\n",
        "print(pow(2,4))\n",
        "\n",
        "print('-'*10)\n",
        "\n",
        "print(list(range(5)))\n",
        "print(list(range(5,10)))\n",
        "print(list(range(1,10,2)))\n",
        "print(list(range(-2,-10,-3)))\n",
        "\n",
        "print('-'*10)\n",
        "\n",
        "\n",
        "print(list(zip([1,2,3], [4,5,6], [7,8,9])))\n",
        "\n",
        "print('-'*10)\n",
        "\n"
      ],
      "metadata": {
        "colab": {
          "base_uri": "https://localhost:8080/"
        },
        "id": "lU0GF7TGtACH",
        "outputId": "586de5de-d928-4ea6-f6be-d1ecc90cf2b5"
      },
      "execution_count": 29,
      "outputs": [
        {
          "output_type": "stream",
          "name": "stdout",
          "text": [
            "3\n",
            "----------\n",
            "False\n",
            "----------\n",
            "['__add__', '__class__', '__contains__', '__delattr__', '__delitem__', '__dir__', '__doc__', '__eq__', '__format__', '__ge__', '__getattribute__', '__getitem__', '__gt__', '__hash__', '__iadd__', '__imul__', '__init__', '__init_subclass__', '__iter__', '__le__', '__len__', '__lt__', '__mul__', '__ne__', '__new__', '__reduce__', '__reduce_ex__', '__repr__', '__reversed__', '__rmul__', '__setattr__', '__setitem__', '__sizeof__', '__str__', '__subclasshook__', 'append', 'clear', 'copy', 'count', 'extend', 'index', 'insert', 'pop', 'remove', 'reverse', 'sort']\n",
            "----------\n",
            "(2, 1)\n",
            "----------\n",
            "0 body\n",
            "1 foo\n",
            "2 bar\n",
            "----------\n",
            "[1, 2, 6]\n",
            "['lebron', 'Hakeem']\n",
            "----------\n",
            "[2, 4, 6, 8]\n",
            "[2, 4, 6, 8]\n",
            "----------\n",
            "3\n",
            "3\n",
            "y\n",
            "----------\n",
            "16\n",
            "----------\n",
            "[0, 1, 2, 3, 4]\n",
            "[5, 6, 7, 8, 9]\n",
            "[1, 3, 5, 7, 9]\n",
            "[-2, -5, -8]\n",
            "----------\n",
            "[(1, 4, 7), (2, 5, 8), (3, 6, 9)]\n"
          ]
        }
      ]
    },
    {
      "cell_type": "code",
      "source": [
        "#외장함수\n",
        "\n",
        "import time as t\n",
        "print(t.time())    #1970년 1월 1일 0시 0분 0초를 기준으로 지난 시간 초\n",
        "for i in range(5):\n",
        "  print(i)\n",
        "#  t.sleep(1)   #1초씩 쉬면서 실행\n",
        "\n",
        "print('-'*10)\n",
        "\n",
        "import random as r\n",
        "print(r.random()) #0~1사이의 난수\n",
        "\n",
        "print(r.randint(1,10))\n",
        "\n",
        "data = [1,2,3,4,5]\n",
        "r.shuffle(data)\n",
        "print(data)\n",
        "\n",
        "lotto=sorted(r.sample(range(1,46),6))\n",
        "print(lotto)\n",
        "\n",
        "print('-'*10)\n",
        "\n",
        "import webbrowser as w\n",
        "w.open(\"http://naver.com\")\n",
        "\n",
        "print('-'*10)\n",
        "\n"
      ],
      "metadata": {
        "colab": {
          "base_uri": "https://localhost:8080/"
        },
        "id": "Ssw1ZF3UtLoV",
        "outputId": "793306b2-9c82-43c3-fa9f-d777d678f085"
      },
      "execution_count": 40,
      "outputs": [
        {
          "output_type": "stream",
          "name": "stdout",
          "text": [
            "1646026165.1387217\n",
            "0\n",
            "1\n",
            "2\n",
            "3\n",
            "4\n",
            "----------\n",
            "0.26690335129320963\n",
            "9\n",
            "[3, 2, 4, 1, 5]\n",
            "[2, 20, 23, 25, 34, 37]\n",
            "----------\n"
          ]
        },
        {
          "output_type": "execute_result",
          "data": {
            "text/plain": [
              "False"
            ]
          },
          "metadata": {},
          "execution_count": 40
        }
      ]
    },
    {
      "cell_type": "markdown",
      "source": [
        "그래서 파이썬으로 프로그래밍은 어떻게 하는건데?\n",
        "\n",
        "프로그램을 만들 때는 가장 먼저 '입력'과 '출력'을 알아야 함."
      ],
      "metadata": {
        "id": "6G9cMj8wz6WU"
      }
    },
    {
      "cell_type": "code",
      "source": [
        "\n",
        "def Gugu(n):\n",
        "  result = []\n",
        "  i = 1\n",
        "  while i < 10:\n",
        "    result.append(n*i)\n",
        "    i = i + 1\n",
        "  return result\n",
        "\n",
        "Gugu(2)\n"
      ],
      "metadata": {
        "colab": {
          "base_uri": "https://localhost:8080/"
        },
        "id": "7FcUDgq0yPkM",
        "outputId": "8b74c592-a630-4d4e-9b49-b0486dd1fddb"
      },
      "execution_count": 43,
      "outputs": [
        {
          "output_type": "execute_result",
          "data": {
            "text/plain": [
              "[2, 4, 6, 8, 10, 12, 14, 16, 18]"
            ]
          },
          "metadata": {},
          "execution_count": 43
        }
      ]
    },
    {
      "cell_type": "code",
      "source": [
        "#10 미만의 자연수에서 3과 5의 배수를 구하면 3, 5, 6, 9이다. 이들의 총합은 23이다.1000 미만의 자연수에서 3의 배수와 5의 배수의 총합을 구하라.\n",
        "result=0\n",
        "for n in range(1,1000):\n",
        "  if n % 3 ==0 or n % 5 ==0:\n",
        "    result = result + n\n",
        "\n",
        "print(result)\n",
        "\n",
        "\n"
      ],
      "metadata": {
        "colab": {
          "base_uri": "https://localhost:8080/"
        },
        "id": "eWWRcFmB0NGW",
        "outputId": "13490978-9a2c-4546-ae5a-c0eab4178cb0"
      },
      "execution_count": 52,
      "outputs": [
        {
          "output_type": "stream",
          "name": "stdout",
          "text": [
            "233168\n"
          ]
        }
      ]
    },
    {
      "cell_type": "code",
      "source": [
        "#A 씨는 게시판 프로그램을 작성하고 있다. 그런데 게시물의 총 건수와 한 페이지에 보여 줄 게시물 수를 입력으로 주었을 때 총 페이지 수를 출력하는 프로그램이 필요하다고 한다.\n",
        "def GetTotalPage(m,n) :\n",
        "  if m % n > 0:\n",
        "    return m//n + 1\n",
        "  else:\n",
        "    return m//n\n",
        "\n",
        "\n",
        "GetTotalPage(100,5)\n",
        "print(GetTotalPage(5,10))\n",
        "print(GetTotalPage(15,10))\n",
        "print(GetTotalPage(25,10))\n",
        "print(GetTotalPage(30,10))"
      ],
      "metadata": {
        "colab": {
          "base_uri": "https://localhost:8080/"
        },
        "id": "YgNnmonP2N66",
        "outputId": "8e170d9d-221d-449d-e02f-5fd7bc2a39be"
      },
      "execution_count": 71,
      "outputs": [
        {
          "output_type": "stream",
          "name": "stdout",
          "text": [
            "1\n",
            "2\n",
            "3\n",
            "3\n"
          ]
        }
      ]
    },
    {
      "cell_type": "code",
      "source": [
        "#원하는 메모를 파일에 저장하고 추가 및 조회가 가능한 간단한 메모장을 만들어 보자.\n",
        "\n"
      ],
      "metadata": {
        "id": "Wr_WPInq3dM8"
      },
      "execution_count": null,
      "outputs": []
    },
    {
      "cell_type": "markdown",
      "source": [
        "정규표현식\n",
        "\n",
        ": 복잡한 문자열을 처리할 때 사용하는 기법, 모든 언어 공통\n",
        "\n",
        "즉 그냥 짧고 간결하게 처리하려고 쓰는 것임"
      ],
      "metadata": {
        "id": "baFEPSmGBUNy"
      }
    },
    {
      "cell_type": "code",
      "source": [
        "#[abc]   #[]사이의 글자들과 매치 , \"a\"는 정규식과 일치하는 문자인 a가 있으므로 매치, \"before\"는 b가 있으므로 매치, dude는? \n",
        "        #하이픈을 사용하여, From - To로 표현 가능, Ex) [a-c] == [abc]\n",
        "\n",
        "#Dot(.)\n",
        "#a.b     #줄바꿈(\\n)을 제외한 모든 문자와 매치, \"aab\" 는 가운데 a가 모든 문자를 의미하는 '.'과 일치하므로 정규식과 매치, \"a0b\"는 가운데 0가 모든 문자를 의미하는 '.'일치하므로 매치.\n",
        "        #\"abc\"는 ab사이에 아무것도 없기에 매치 x\n",
        "\n",
        "#반복(*)\n",
        "#ca*t   #\"ct\"는 \"a\"가 0번 반복되어 매치\n",
        "       #\"cat\"는 \"a\"가 1번 반복되어 매치\n",
        "       #\"caaat\"\n",
        "\n",
        "#반복(+)\n",
        "#ca+t   #\"ct\"는 \"a\"가 0번 반복되어 매치 x\n",
        "       #\"cat\"는 1번, 매치\n",
        "       #\"caaat\"\n",
        "\n",
        "#반복({m,n},?)\n",
        "#ca{2}t #\"cat\"는 \"a\"가 1번 반복, 매치x\n",
        "       #\"caat\"는 2번 반복 , 매치\n",
        "#ca{2,5}t는?\n",
        "\n",
        "\n",
        "#ab?c   == ab{0,1}c \n"
      ],
      "metadata": {
        "colab": {
          "base_uri": "https://localhost:8080/",
          "height": 136
        },
        "id": "yo_lY4UBBqsd",
        "outputId": "4ed3fc82-094f-46f6-8b25-e19dccd60a0f"
      },
      "execution_count": 73,
      "outputs": [
        {
          "output_type": "error",
          "ename": "SyntaxError",
          "evalue": "ignored",
          "traceback": [
            "\u001b[0;36m  File \u001b[0;32m\"<ipython-input-73-e1c68c9fb066>\"\u001b[0;36m, line \u001b[0;32m19\u001b[0m\n\u001b[0;31m    ca{2}t #\"cat\"는 \"a\"가 1번 반복, 매치x\u001b[0m\n\u001b[0m      ^\u001b[0m\n\u001b[0;31mSyntaxError\u001b[0m\u001b[0;31m:\u001b[0m invalid syntax\n"
          ]
        }
      ]
    },
    {
      "cell_type": "code",
      "source": [
        "import re\n",
        "p = re.compile('ab*')    #패턴객체 p"
      ],
      "metadata": {
        "id": "7va6bxl3H8rz"
      },
      "execution_count": 74,
      "outputs": []
    },
    {
      "cell_type": "code",
      "source": [
        "p = re.compile('[a-z]+')\n",
        "m = p.match(\"python\")\n",
        "print(m)\n"
      ],
      "metadata": {
        "colab": {
          "base_uri": "https://localhost:8080/"
        },
        "id": "FLtc8WZ0II0c",
        "outputId": "6619fb82-2cf8-436f-f0af-4beee9fe95f7"
      },
      "execution_count": 75,
      "outputs": [
        {
          "output_type": "stream",
          "name": "stdout",
          "text": [
            "<re.Match object; span=(0, 6), match='python'>\n"
          ]
        }
      ]
    },
    {
      "cell_type": "code",
      "source": [
        "m = p.match(\"3 python\")\n",
        "print(m)"
      ],
      "metadata": {
        "colab": {
          "base_uri": "https://localhost:8080/"
        },
        "id": "fWsDelT-IaX3",
        "outputId": "ace58507-cff4-48c0-c285-6cf86e7aee83"
      },
      "execution_count": 76,
      "outputs": [
        {
          "output_type": "stream",
          "name": "stdout",
          "text": [
            "None\n"
          ]
        }
      ]
    },
    {
      "cell_type": "code",
      "source": [
        "p = re.compile('[a-z]+')\n",
        "m = p.search('3 python')\n",
        "print(m)"
      ],
      "metadata": {
        "colab": {
          "base_uri": "https://localhost:8080/"
        },
        "id": "-yQysJRgIf6y",
        "outputId": "951c4c10-df98-435a-d57f-26eb60492d2a"
      },
      "execution_count": 80,
      "outputs": [
        {
          "output_type": "stream",
          "name": "stdout",
          "text": [
            "<re.Match object; span=(2, 8), match='python'>\n"
          ]
        }
      ]
    },
    {
      "cell_type": "code",
      "source": [
        "p = re.compile('[a-z]+', re.I)\n",
        "m = p.finditer('Life is too short')\n",
        "for r in m:\n",
        "  print(r)\n",
        "print(m)"
      ],
      "metadata": {
        "colab": {
          "base_uri": "https://localhost:8080/"
        },
        "id": "XGFm0jIaI-XQ",
        "outputId": "0150a85c-91ef-440b-c329-a6de5776d2a6"
      },
      "execution_count": 97,
      "outputs": [
        {
          "output_type": "stream",
          "name": "stdout",
          "text": [
            "<re.Match object; span=(0, 4), match='Life'>\n",
            "<re.Match object; span=(5, 7), match='is'>\n",
            "<re.Match object; span=(8, 11), match='too'>\n",
            "<re.Match object; span=(12, 17), match='short'>\n",
            "<callable_iterator object at 0x7ff148b97450>\n"
          ]
        }
      ]
    },
    {
      "cell_type": "code",
      "source": [
        "#match 객체의 메서드\n",
        "#.group 매치된 문자열을 리턴\n",
        "#.start 매치된 문자열의 시작 위치를 리턴\n",
        "#.end 매치된 문자열의 끝 위치를 리턴\n",
        "#.span 매치된 문자열의 시작과 끝(시작,끝)에 해당되는 튜플을 리턴\n",
        "\n",
        "p = re.compile('[a-z]+')\n",
        "m = p.match('python')\n",
        "print(m.group())\n",
        "print(m.start())\n",
        "print(m.end())\n",
        "print(m.span())"
      ],
      "metadata": {
        "colab": {
          "base_uri": "https://localhost:8080/"
        },
        "id": "eZrs6J4cJPg0",
        "outputId": "d87274b6-0005-47be-94b9-7d4291723387"
      },
      "execution_count": 90,
      "outputs": [
        {
          "output_type": "stream",
          "name": "stdout",
          "text": [
            "python\n",
            "0\n",
            "6\n",
            "(0, 6)\n"
          ]
        }
      ]
    },
    {
      "cell_type": "code",
      "source": [
        ">>> import re\n",
        ">>> p = re.compile('a.b')\n",
        ">>> m = p.match('a\\nb')\n",
        ">>> print(m)\n",
        "\n",
        ">>> p = re.compile('a.b', re.DOTALL)\n",
        ">>> m = p.match('a\\nb')\n",
        ">>> print(m)"
      ],
      "metadata": {
        "colab": {
          "base_uri": "https://localhost:8080/"
        },
        "id": "5W8C7QUoKHq9",
        "outputId": "72dd108f-7840-48a7-d99e-412c333ab6d0"
      },
      "execution_count": 93,
      "outputs": [
        {
          "output_type": "stream",
          "name": "stdout",
          "text": [
            "None\n",
            "<re.Match object; span=(0, 3), match='a\\nb'>\n"
          ]
        }
      ]
    },
    {
      "cell_type": "code",
      "source": [
        ">>> p = re.compile('[a-z]+', re.I)\n",
        ">>> p.match('python')\n",
        "\n",
        ">>> p.match('Python')\n",
        "\n",
        ">>> p.match('PYTHON')\n"
      ],
      "metadata": {
        "colab": {
          "base_uri": "https://localhost:8080/"
        },
        "id": "htXGrqXZKf8g",
        "outputId": "56609960-c15f-4006-be0b-97853d855fee"
      },
      "execution_count": 95,
      "outputs": [
        {
          "output_type": "execute_result",
          "data": {
            "text/plain": [
              "<re.Match object; span=(0, 6), match='PYTHON'>"
            ]
          },
          "metadata": {},
          "execution_count": 95
        }
      ]
    },
    {
      "cell_type": "code",
      "source": [
        "import re\n",
        "p = re.compile(\"^python\\s\\w+\" , re.M)\n",
        "\n",
        "data = \"\"\"python one\n",
        "life is too short\n",
        "python two\n",
        "you need python\n",
        "python three\"\"\"\n",
        "\n",
        "print(p.findall(data))"
      ],
      "metadata": {
        "colab": {
          "base_uri": "https://localhost:8080/"
        },
        "id": "021slI4uKw-J",
        "outputId": "ac1944e2-2573-4e45-aee8-acf7d621f329"
      },
      "execution_count": 99,
      "outputs": [
        {
          "output_type": "stream",
          "name": "stdout",
          "text": [
            "['python one', 'python two', 'python three']\n"
          ]
        }
      ]
    },
    {
      "cell_type": "code",
      "source": [
        "charref = re.compile(r\"\"\"\n",
        " &[#]                # Start of a numeric entity reference\n",
        " (\n",
        "     0[0-7]+         # Octal form\n",
        "   | [0-9]+          # Decimal form\n",
        "   | x[0-9a-fA-F]+   # Hexadecimal form\n",
        " )\n",
        " ;                   # Trailing semicolon\n",
        "\"\"\", re.VERBOSE)"
      ],
      "metadata": {
        "id": "niVWZNQ1LLbX"
      },
      "execution_count": 100,
      "outputs": []
    },
    {
      "cell_type": "code",
      "source": [
        ">>> p = re.compile('Crow|Servo')\n",
        ">>> m = p.match('CrowHello')\n",
        ">>> print(m)"
      ],
      "metadata": {
        "colab": {
          "base_uri": "https://localhost:8080/"
        },
        "id": "hu3G0p6vLgHF",
        "outputId": "738c8679-1821-4fd4-e540-18d7d375fe89"
      },
      "execution_count": 101,
      "outputs": [
        {
          "output_type": "stream",
          "name": "stdout",
          "text": [
            "<re.Match object; span=(0, 4), match='Crow'>\n"
          ]
        }
      ]
    },
    {
      "cell_type": "code",
      "source": [
        ">>> print(re.search('^Life', 'Life is too short'))\n",
        ">>> print(re.search('^Life', 'My Life', re.M))"
      ],
      "metadata": {
        "colab": {
          "base_uri": "https://localhost:8080/"
        },
        "id": "JI8o-DJ0L-Io",
        "outputId": "ccf1d0f7-6bc3-4003-d542-54ece1432777"
      },
      "execution_count": 104,
      "outputs": [
        {
          "output_type": "stream",
          "name": "stdout",
          "text": [
            "<re.Match object; span=(0, 4), match='Life'>\n",
            "None\n"
          ]
        }
      ]
    },
    {
      "cell_type": "code",
      "source": [
        ">>> print(re.search('short$', 'Life is too short'))\n",
        ">>> print(re.search('short$', 'Life is too short, you need python'))"
      ],
      "metadata": {
        "colab": {
          "base_uri": "https://localhost:8080/"
        },
        "id": "insm2j7DMH4m",
        "outputId": "5bc528bc-fbb8-4b48-b1d7-b72cefd288cf"
      },
      "execution_count": 105,
      "outputs": [
        {
          "output_type": "stream",
          "name": "stdout",
          "text": [
            "<re.Match object; span=(12, 17), match='short'>\n",
            "None\n"
          ]
        }
      ]
    },
    {
      "cell_type": "code",
      "source": [
        ">>> p = re.compile(r'\\bclass\\b')\n",
        ">>> print(p.search('no class at all'))  "
      ],
      "metadata": {
        "colab": {
          "base_uri": "https://localhost:8080/"
        },
        "id": "ZH4qMh7XMczU",
        "outputId": "6e8d125e-998f-4aa2-d44c-3ad5cdc211d8"
      },
      "execution_count": 106,
      "outputs": [
        {
          "output_type": "stream",
          "name": "stdout",
          "text": [
            "<re.Match object; span=(3, 8), match='class'>\n"
          ]
        }
      ]
    },
    {
      "cell_type": "code",
      "source": [
        ">>> p = re.compile('(ABC)+')\n",
        ">>> m = p.search('ABCABCABC OK?')\n",
        ">>> print(m)"
      ],
      "metadata": {
        "colab": {
          "base_uri": "https://localhost:8080/"
        },
        "id": "K6GiBknFMkkV",
        "outputId": "2e26de4c-940c-4fa7-a61a-c68ca2ea850c"
      },
      "execution_count": 107,
      "outputs": [
        {
          "output_type": "stream",
          "name": "stdout",
          "text": [
            "<re.Match object; span=(0, 9), match='ABCABCABC'>\n"
          ]
        }
      ]
    },
    {
      "cell_type": "code",
      "source": [
        ">>> p = re.compile(r\"(?P<name>\\w+)\\s+((\\d+)[-]\\d+[-]\\d+)\")\n",
        ">>> m = p.search(\"park 010-1234-1234\")\n",
        ">>> print(m.group(\"name\"))"
      ],
      "metadata": {
        "colab": {
          "base_uri": "https://localhost:8080/"
        },
        "id": "p696RgXNM4yp",
        "outputId": "b4082f27-b644-47b7-86c0-73f0cfcbed3c"
      },
      "execution_count": 108,
      "outputs": [
        {
          "output_type": "stream",
          "name": "stdout",
          "text": [
            "park\n"
          ]
        }
      ]
    },
    {
      "cell_type": "code",
      "source": [
        ">>> p = re.compile(\".+:\")\n",
        ">>> m = p.search(\"http://google.com\")\n",
        ">>> print(m.group())"
      ],
      "metadata": {
        "colab": {
          "base_uri": "https://localhost:8080/"
        },
        "id": "yM1-80nTNQad",
        "outputId": "51b87a9e-3b89-4f2d-f744-fbe529f76b36"
      },
      "execution_count": 109,
      "outputs": [
        {
          "output_type": "stream",
          "name": "stdout",
          "text": [
            "http:\n"
          ]
        }
      ]
    },
    {
      "cell_type": "code",
      "source": [
        ">>> p = re.compile(\".+(?=:)\")\n",
        ">>> m = p.search(\"http://google.com\")\n",
        ">>> print(m.group())"
      ],
      "metadata": {
        "colab": {
          "base_uri": "https://localhost:8080/"
        },
        "id": "Ct57fWkMNi6N",
        "outputId": "9b7170c0-f8a5-482a-cc35-a33cc2cf2cf1"
      },
      "execution_count": 111,
      "outputs": [
        {
          "output_type": "stream",
          "name": "stdout",
          "text": [
            "http\n"
          ]
        }
      ]
    },
    {
      "cell_type": "code",
      "source": [
        ">>> p = re.compile('(blue|white|red)')\n",
        ">>> p.sub('colour', 'blue socks and red shoes')"
      ],
      "metadata": {
        "colab": {
          "base_uri": "https://localhost:8080/",
          "height": 35
        },
        "id": "p4Yzf0MkNu5T",
        "outputId": "be2be065-9653-4af7-fe1c-38096237dddb"
      },
      "execution_count": 112,
      "outputs": [
        {
          "output_type": "execute_result",
          "data": {
            "application/vnd.google.colaboratory.intrinsic+json": {
              "type": "string"
            },
            "text/plain": [
              "'colour socks and colour shoes'"
            ]
          },
          "metadata": {},
          "execution_count": 112
        }
      ]
    },
    {
      "cell_type": "code",
      "source": [
        ""
      ],
      "metadata": {
        "id": "IRyfWUrEOLJi"
      },
      "execution_count": null,
      "outputs": []
    }
  ]
}