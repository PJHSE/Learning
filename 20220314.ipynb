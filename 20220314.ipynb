{
  "nbformat": 4,
  "nbformat_minor": 0,
  "metadata": {
    "colab": {
      "name": "Untitled12.ipynb",
      "provenance": [],
      "authorship_tag": "ABX9TyOlMv8jDPn96usB0TYmWdW2",
      "include_colab_link": true
    },
    "kernelspec": {
      "name": "python3",
      "display_name": "Python 3"
    },
    "language_info": {
      "name": "python"
    }
  },
  "cells": [
    {
      "cell_type": "markdown",
      "metadata": {
        "id": "view-in-github",
        "colab_type": "text"
      },
      "source": [
        "<a href=\"https://colab.research.google.com/github/PJHSE/Learning/blob/main/20220314.ipynb\" target=\"_parent\"><img src=\"https://colab.research.google.com/assets/colab-badge.svg\" alt=\"Open In Colab\"/></a>"
      ]
    },
    {
      "cell_type": "code",
      "execution_count": 15,
      "metadata": {
        "colab": {
          "base_uri": "https://localhost:8080/",
          "height": 35
        },
        "id": "sgoSw1KoowU3",
        "outputId": "8fa7aced-3230-462c-bd82-297ba602eaa6"
      },
      "outputs": [
        {
          "output_type": "execute_result",
          "data": {
            "text/plain": [
              "'휴대폰은 2에 있다'"
            ],
            "application/vnd.google.colaboratory.intrinsic+json": {
              "type": "string"
            }
          },
          "metadata": {},
          "execution_count": 15
        }
      ],
      "source": [
        "Location = ['Bathroom', 'Car', 'DiningRoom', 'Undefined']\n",
        "\n",
        "def whereismyCellphone(Location):\n",
        "    x = 0\n",
        "    while x in range(len(Location)):\n",
        "        if Location[x] != \"DiningRoom\":\n",
        "            x += 1\n",
        "        if Location[x] == \"DiningRoom\":\n",
        "            return(\"휴대폰은 {}에 있다\".format(x))\n",
        "\n",
        "whereismyCellphone(Location)"
      ]
    },
    {
      "cell_type": "code",
      "source": [
        "a = ['김민지', '박준서', '고라니', '코끼리']\n",
        "b = [201813023, 2016234, 20133245, 20221234]\n",
        "c = {a[i]:b[i] for i in range(4)}\n",
        "c"
      ],
      "metadata": {
        "colab": {
          "base_uri": "https://localhost:8080/"
        },
        "id": "nSsbi0RJo-63",
        "outputId": "3db85b10-1129-49b7-c00c-f56266076138"
      },
      "execution_count": 18,
      "outputs": [
        {
          "output_type": "execute_result",
          "data": {
            "text/plain": [
              "{'고라니': 20133245, '김민지': 201813023, '박준서': 2016234, '코끼리': 20221234}"
            ]
          },
          "metadata": {},
          "execution_count": 18
        }
      ]
    },
    {
      "cell_type": "code",
      "source": [
        "def Finder(a, b):\n",
        "  x = 0\n",
        "  while x "
      ],
      "metadata": {
        "id": "WZHIaTW5rS_d"
      },
      "execution_count": null,
      "outputs": []
    }
  ]
}